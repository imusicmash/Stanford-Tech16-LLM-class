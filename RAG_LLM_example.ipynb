{
  "cells": [
    {
      "cell_type": "markdown",
      "metadata": {
        "id": "view-in-github",
        "colab_type": "text"
      },
      "source": [
        "<a href=\"https://colab.research.google.com/github/imusicmash/Stanford-Tech16-LLM-class/blob/main/RAG_LLM_example.ipynb\" target=\"_parent\"><img src=\"https://colab.research.google.com/assets/colab-badge.svg\" alt=\"Open In Colab\"/></a>"
      ]
    },
    {
      "cell_type": "markdown",
      "source": [
        "## RAG example\n",
        "by Al Nevarez"
      ],
      "metadata": {
        "id": "IT1F6ud7ZAkc"
      }
    },
    {
      "cell_type": "code",
      "execution_count": null,
      "metadata": {
        "id": "UAsj88npPdRu"
      },
      "outputs": [],
      "source": [
        "!pip install openai\n",
        "!pip install sentence-transformers\n",
        "!pip install langchain pypdf langchain-openai #tiktoken chromadb"
      ]
    },
    {
      "cell_type": "markdown",
      "metadata": {
        "id": "kAN9wVRY7q1L"
      },
      "source": [
        "# Standard imports"
      ]
    },
    {
      "cell_type": "code",
      "execution_count": null,
      "metadata": {
        "id": "Ft0dVY1iOLhv"
      },
      "outputs": [],
      "source": [
        "from openai import OpenAI\n",
        "from google.colab import userdata\n",
        "\n",
        "open_ai_key = userdata.get('openai')\n",
        "client = OpenAI(api_key=open_ai_key)\n"
      ]
    },
    {
      "cell_type": "markdown",
      "metadata": {
        "id": "JlNnTJmFN6k9"
      },
      "source": [
        "# RAG"
      ]
    },
    {
      "cell_type": "code",
      "execution_count": null,
      "metadata": {
        "id": "o2XmY9HZN-Ji"
      },
      "outputs": [],
      "source": [
        "!pip install llama-index --upgrade"
      ]
    },
    {
      "cell_type": "code",
      "execution_count": null,
      "metadata": {
        "colab": {
          "base_uri": "https://localhost:8080/"
        },
        "id": "jT6Yd3IqPbwg",
        "outputId": "27d87b2f-4adb-4ec7-c326-c8b245ba3c7d"
      },
      "outputs": [
        {
          "output_type": "stream",
          "name": "stdout",
          "text": [
            "Requirement already satisfied: pypdf in /usr/local/lib/python3.10/dist-packages (4.1.0)\n"
          ]
        }
      ],
      "source": [
        "!pip install pypdf"
      ]
    },
    {
      "cell_type": "code",
      "execution_count": null,
      "metadata": {
        "id": "q7t2rkYZEpYE"
      },
      "outputs": [],
      "source": [
        "!wget https://www.goldmansachs.com/intelligence/pages/gs-research/2024-us-equity-outlook-all-you-had-to-do-was-stay/report.pdf\n",
        "# research pper on cosine similary\n",
        "#!wget https://arxiv.org/pdf/2403.05440.pdf"
      ]
    },
    {
      "cell_type": "code",
      "execution_count": null,
      "metadata": {
        "id": "oJOpJn7ROq0h"
      },
      "outputs": [],
      "source": [
        "import os\n",
        "os.environ[\"OPENAI_API_KEY\"] = open_ai_key"
      ]
    },
    {
      "cell_type": "code",
      "execution_count": null,
      "metadata": {
        "colab": {
          "base_uri": "https://localhost:8080/"
        },
        "id": "ivg6ru6pOE4v",
        "outputId": "303066b8-0191-430c-ef27-4c1793425107"
      },
      "outputs": [
        {
          "output_type": "stream",
          "name": "stderr",
          "text": [
            "Loading files: 100%|██████████| 1/1 [00:00<00:00,  1.12file/s]\n"
          ]
        },
        {
          "output_type": "stream",
          "name": "stdout",
          "text": [
            "- The risks of using cosine similarity include fluctuations in exchange rates that could adversely affect the value or price of investments, as well as the income derived from them.\n",
            "- Another risk is that certain transactions involving futures, options, and other derivatives carry substantial risk and may not be suitable for all investors.\n",
            "- To mitigate these risks, investors should consider seeking professional advice, including tax advice, to ensure the suitability of any recommendations in the research report.\n",
            "- Additionally, investors should review current options and futures disclosure documents to fully understand the risks involved in different investment strategies.\n",
            "- It is important to be aware that past performance is not indicative of future results, and investors should carefully assess their risk tolerance and investment objectives before making any decisions.\n"
          ]
        }
      ],
      "source": [
        "# Import necessary classes from the llama_index package\n",
        "from llama_index.core import VectorStoreIndex, SimpleDirectoryReader\n",
        "\n",
        "# Read documents from the specified directory and load a specific document, \"report.pdf\".\n",
        "# documents = SimpleDirectoryReader(\"./\").load_data(\"report.pdf\")\n",
        "documents = SimpleDirectoryReader(\"./\").load_data(\"2403.05440.pdf\")\n",
        "\n",
        "# Create a VectorStoreIndex object from the documents. This will involve processing the documents\n",
        "# and creating a vector representation for each of them, suitable for semantic searching.\n",
        "# https://docs.llamaindex.ai/en/stable/module_guides/indexing/vector_store_index.html\n",
        "# By default, VectorStoreIndex stores everything in memory. See Using Vector Stores below for more on how to use persistent vector stores.\n",
        "index = VectorStoreIndex.from_documents(documents)\n",
        "\n",
        "# Convert the VectorStoreIndex object into a query engine. This query engine can be used to\n",
        "# perform semantic searches on the index, matching natural language queries to the most relevant\n",
        "# documents in the index.\n",
        "query_engine = index.as_query_engine()\n",
        "\n",
        "# Use the query engine to search for documents that are relevant to the query\n",
        "# from the indexed documents based on the semantic understanding of the query.\n",
        "response = query_engine.query(\"Summarize: what are the risks of using cosine-similary and why?. The provide a bullet list of suggestions to mitigate the risk.\")\n",
        "\n",
        "# Print the response obtained from the query. This will display the result of the semantic search,\n",
        "# showing the information or documents that best match the query about the 2024 outlook.\n",
        "print(response)\n"
      ]
    },
    {
      "cell_type": "code",
      "source": [
        "response = query_engine.query(\"Will the ongoing wars create economic risk??\")\n",
        "print(response)"
      ],
      "metadata": {
        "colab": {
          "base_uri": "https://localhost:8080/"
        },
        "id": "Up7gg_cK-96N",
        "outputId": "ddc2650b-9899-4308-b776-6265b9bf100d"
      },
      "execution_count": null,
      "outputs": [
        {
          "output_type": "stream",
          "name": "stdout",
          "text": [
            "The ongoing wars, such as the Israel-Hamas War, the Russia-Ukraine War, and the US-China Trade War, are identified as potential sources of financial market risk, according to the provided context information.\n"
          ]
        }
      ]
    },
    {
      "cell_type": "code",
      "source": [
        "response = query_engine.query(\"What is the telephone for Jenny Ma ?\")\n",
        "print(response)"
      ],
      "metadata": {
        "colab": {
          "base_uri": "https://localhost:8080/"
        },
        "id": "PseqrGDYSyLc",
        "outputId": "2a35442d-f558-4ee2-dfd9-134462536ec9"
      },
      "execution_count": null,
      "outputs": [
        {
          "output_type": "stream",
          "name": "stdout",
          "text": [
            "+91 22 6616 9000\n"
          ]
        }
      ]
    },
    {
      "cell_type": "code",
      "source": [
        "response = query_engine.query(\"What is the email for Jenny Ma ?\")\n",
        "print(response)"
      ],
      "metadata": {
        "id": "g9DR1eIJT6oS"
      },
      "execution_count": null,
      "outputs": []
    },
    {
      "cell_type": "code",
      "source": [
        "documents"
      ],
      "metadata": {
        "id": "VemvJVdTTG8L"
      },
      "execution_count": null,
      "outputs": []
    },
    {
      "cell_type": "code",
      "source": [],
      "metadata": {
        "id": "3pFej_ocTD2x"
      },
      "execution_count": null,
      "outputs": []
    },
    {
      "cell_type": "code",
      "source": [
        "response = query_engine.query(\"What did I just ask you?\")\n",
        "print(response)"
      ],
      "metadata": {
        "colab": {
          "base_uri": "https://localhost:8080/"
        },
        "id": "JeGUxIpfdsrI",
        "outputId": "a8bbdc24-7611-4614-cc35-9f9605794200"
      },
      "execution_count": null,
      "outputs": [
        {
          "output_type": "stream",
          "name": "stdout",
          "text": [
            "You just asked me to provide information based on the context given.\n"
          ]
        }
      ]
    }
  ],
  "metadata": {
    "colab": {
      "provenance": [],
      "collapsed_sections": [
        "7ArFAx74T8EQ",
        "GhXUZTNtJipd"
      ],
      "toc_visible": true,
      "include_colab_link": true
    },
    "kernelspec": {
      "display_name": "Python 3",
      "name": "python3"
    },
    "language_info": {
      "name": "python"
    }
  },
  "nbformat": 4,
  "nbformat_minor": 0
}