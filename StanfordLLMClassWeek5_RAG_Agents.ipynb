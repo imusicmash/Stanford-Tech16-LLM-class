{
  "nbformat": 4,
  "nbformat_minor": 0,
  "metadata": {
    "colab": {
      "provenance": [],
      "gpuType": "T4",
      "include_colab_link": true
    },
    "kernelspec": {
      "name": "python3",
      "display_name": "Python 3"
    },
    "language_info": {
      "name": "python"
    }
  },
  "cells": [
    {
      "cell_type": "markdown",
      "metadata": {
        "id": "view-in-github",
        "colab_type": "text"
      },
      "source": [
        "<a href=\"https://colab.research.google.com/github/imusicmash/Stanford-Tech16-LLM-class/blob/main/StanfordLLMClassWeek5_RAG_Agents.ipynb\" target=\"_parent\"><img src=\"https://colab.research.google.com/assets/colab-badge.svg\" alt=\"Open In Colab\"/></a>"
      ]
    },
    {
      "cell_type": "markdown",
      "source": [
        "## Colab we used for the class on RAG and Agentic AI\n",
        "by Al Nevarez"
      ],
      "metadata": {
        "id": "e2Up_rV1XXsX"
      }
    },
    {
      "cell_type": "code",
      "source": [
        "!pip install openai\n",
        "!pip install sentence-transformers\n",
        "!pip install langchain pypdf langchain-openai #tiktoken chromadb"
      ],
      "metadata": {
        "id": "UAsj88npPdRu"
      },
      "execution_count": null,
      "outputs": []
    },
    {
      "cell_type": "code",
      "source": [
        "# need thes aysnc stuff later for the agent summary to work\n",
        "!pip install nest-asyncio\n",
        "import nest_asyncio\n",
        "nest_asyncio.apply()"
      ],
      "metadata": {
        "id": "L9SSNF_3NdKY"
      },
      "execution_count": null,
      "outputs": []
    },
    {
      "cell_type": "markdown",
      "source": [
        "# RAG"
      ],
      "metadata": {
        "id": "JlNnTJmFN6k9"
      }
    },
    {
      "cell_type": "code",
      "source": [
        "!pip install llama-index --upgrade"
      ],
      "metadata": {
        "id": "o2XmY9HZN-Ji"
      },
      "execution_count": null,
      "outputs": []
    },
    {
      "cell_type": "code",
      "source": [
        "!pip install pypdf"
      ],
      "metadata": {
        "colab": {
          "base_uri": "https://localhost:8080/"
        },
        "id": "jT6Yd3IqPbwg",
        "outputId": "55ed8268-4334-478e-ab40-eae15452af54"
      },
      "execution_count": null,
      "outputs": [
        {
          "output_type": "stream",
          "name": "stdout",
          "text": [
            "Requirement already satisfied: pypdf in /usr/local/lib/python3.10/dist-packages (4.0.2)\n"
          ]
        }
      ]
    },
    {
      "cell_type": "code",
      "source": [
        "# !wget https://www.goldmansachs.com/intelligence/pages/gs-research/2024-us-equity-outlook-all-you-had-to-do-was-stay/report.pdf\n",
        "!wget https://www.goldmansachs.com/pdfs/insights/pages/gs-research/2024-us-equity-outlook-all-you-had-to-do-was-stay/report.pdf"
      ],
      "metadata": {
        "id": "q7t2rkYZEpYE"
      },
      "execution_count": null,
      "outputs": []
    },
    {
      "cell_type": "code",
      "source": [
        "from openai import OpenAI\n",
        "from google.colab import userdata\n",
        "\n",
        "open_ai_key = userdata.get('openai')\n",
        "# client = OpenAI(api_key=open_ai_key)"
      ],
      "metadata": {
        "id": "DES1mJnfTwMt"
      },
      "execution_count": null,
      "outputs": []
    },
    {
      "cell_type": "code",
      "source": [
        "import os\n",
        "os.environ[\"OPENAI_API_KEY\"] = open_ai_key"
      ],
      "metadata": {
        "id": "oJOpJn7ROq0h"
      },
      "execution_count": null,
      "outputs": []
    },
    {
      "cell_type": "markdown",
      "source": [
        "# Routing"
      ],
      "metadata": {
        "id": "QSZ_DMYjh4dE"
      }
    },
    {
      "cell_type": "code",
      "source": [
        "# Import necessary classes from the llama_index package\n",
        "from llama_index.core import VectorStoreIndex, SimpleDirectoryReader, SummaryIndex\n",
        "from llama_index.core import Settings\n",
        "\n",
        "# Read documents from the specified directory and load a specific document, \"report.pdf\".\n",
        "documents = SimpleDirectoryReader(\"./\").load_data(\"report.pdf\")\n",
        "\n",
        "# initialize settings (set chunk size)\n",
        "Settings.chunk_size = 1024\n",
        "# think of nodes like the chunks.\n",
        "nodes = Settings.node_parser.get_nodes_from_documents(documents)\n",
        "\n",
        "# Create a VectorStoreIndex object from the documents. This will involve processing the documents\n",
        "# and creating a vector representation for each of them, suitable for semantic searching.\n",
        "summary_index = SummaryIndex(nodes)\n",
        "vector_index = VectorStoreIndex(nodes)\n",
        "\n",
        "summary_query_engine = summary_index.as_query_engine(\n",
        "    response_mode=\"tree_summarize\",\n",
        "    use_async=True,\n",
        ")\n",
        "vector_query_engine = vector_index.as_query_engine()\n"
      ],
      "metadata": {
        "id": "ivg6ru6pOE4v",
        "colab": {
          "base_uri": "https://localhost:8080/"
        },
        "outputId": "6853f033-5c71-4e0c-da82-9c6302edaab6"
      },
      "execution_count": null,
      "outputs": [
        {
          "output_type": "stream",
          "name": "stderr",
          "text": [
            "Loading files: 100%|██████████| 1/1 [00:01<00:00,  1.17s/file]\n"
          ]
        }
      ]
    },
    {
      "cell_type": "code",
      "source": [
        "nodes[1]"
      ],
      "metadata": {
        "colab": {
          "base_uri": "https://localhost:8080/"
        },
        "id": "GvNViZMTLQD4",
        "outputId": "b2641699-05e5-4a6a-dd26-2087050f9116"
      },
      "execution_count": null,
      "outputs": [
        {
          "output_type": "execute_result",
          "data": {
            "text/plain": [
              "TextNode(id_='457931bd-2a1c-4ad2-8507-52f67f1503b7', embedding=None, metadata={'page_label': '2', 'file_name': 'report.pdf', 'file_path': '/content/report.pdf', 'file_type': 'application/pdf', 'file_size': 491250, 'creation_date': '2024-05-05', 'last_modified_date': '2023-11-21'}, excluded_embed_metadata_keys=['file_name', 'file_type', 'file_size', 'creation_date', 'last_modified_date', 'last_accessed_date'], excluded_llm_metadata_keys=['file_name', 'file_type', 'file_size', 'creation_date', 'last_modified_date', 'last_accessed_date'], relationships={<NodeRelationship.SOURCE: '1'>: RelatedNodeInfo(node_id='4ceebfda-de3f-4a7a-8a7f-7342f9047349', node_type=<ObjectType.DOCUMENT: '4'>, metadata={'page_label': '2', 'file_name': 'report.pdf', 'file_path': '/content/report.pdf', 'file_type': 'application/pdf', 'file_size': 491250, 'creation_date': '2024-05-05', 'last_modified_date': '2023-11-21'}, hash='9cda9528c7e9585c03c47cba0f2d53f8a1e7a7d7fcab82284544e9958588da6f')}, text='PM Summary: “Long Story Short” — S&P 500 will end 2024 at 4700 (+5%)  \\nThe launch of singe r-songwrit er Taylor Swift ’s “Eras” tour represented one of the \\nmost notable cultural events of 2023. Global ticket sales are estimated to exceed $1 \\nbillion. The tour’ s economic multiplier effect is signiﬁcant. As evidence, the Federal \\nReserve Bank of Philadelphia speciﬁcally noted in a recent Beige Book commentary that \\n“May was the strongest month for hotel revenue in Philadelphia since the onset of the \\npandemic, in large part due to an inﬂux of guests for the Taylor Swift concerts in the \\ncity.”  \\nThe Eras tour will conclude in late November 2024, roughly corresponding to the \\n12-month horizon of the market forecast in this report. As homage to the global\\nicon, our 2024 US Equity Outlook is subtitled “All You Had To Do Was Stay” – invested.\\nT\\nhe title of the song from Taylor Swift ’s 1989 album reﬂects our baseline forecast that\\ndespite intermittent volatilit y, fund managers will ultimately be rewarded for staying\\nin\\nvested through the end of next yea r.\\nContinued economic and EPS growth will lift the S&P 500 index to 4700 (+5%) at \\nthe end of next yea r. However, the benchmark will still remain slightly below its \\nJanuary 2022 all-time high of 479 7. Our interim 3-month (4500) and 6-month (4500) \\nS&P 500 index targets reﬂect a ﬂat market during 1H 2024 (Exhibit 1). We believe the \\nreturns to the index will be concentrated in 2H 2024. Resilient economic growth in the \\nbeginning of the year will force the market to push back its current pricing that Fed cuts \\nwill begin in 2Q, and US election uncertainty will suppress risk appetite. Later in the \\nyear, the ﬁrst Fed cut and resolution of election uncertainty will lift US equity prices. \\nExhibit 1: Goldman Sachs US Portfolio Strategy S&P 500 price targets: The path to 4700 at year-end 2024  \\n320036004000440048005200\\n2021 2022 2023 2024 2025S&P 500 index \\nGS forecastYE 2024:\\n4700\\n1H 2024:\\n4500Jul. 2023:\\n4589Jan. 2022:\\n4797\\nSource: Goldman Sachs Global Investment Research\\n15 November 2023   2Goldman Sachs', start_char_idx=0, end_char_idx=2085, text_template='{metadata_str}\\n\\n{content}', metadata_template='{key}: {value}', metadata_seperator='\\n')"
            ]
          },
          "metadata": {},
          "execution_count": 12
        }
      ]
    },
    {
      "cell_type": "code",
      "source": [
        "# build the one central query engine, which will have several query engines\n",
        "from llama_index.core.query_engine import RouterQueryEngine\n",
        "from llama_index.core.selectors import PydanticSingleSelector\n",
        "from llama_index.core.tools import QueryEngineTool\n",
        "\n",
        "# it will be up to the router to decide which of the following tools to use\n",
        "# charlie says that it reasons and makes decision for itself\n",
        "# we give it 2 tool options\n",
        "\n",
        "\n",
        "summary_tool = QueryEngineTool.from_defaults(\n",
        "    query_engine=summary_query_engine,\n",
        "    description=\"Useful for summarization questions related to the data source\",\n",
        "    #description = \"\",\n",
        ")\n",
        "vector_tool = QueryEngineTool.from_defaults(\n",
        "    query_engine=vector_query_engine,\n",
        "    description=\"Useful for retrieving specific context related to the data source\",\n",
        "    #description=\"Useful for generating pictures\",\n",
        "    #description = \"\",\n",
        ")\n",
        "\n",
        "query_engine = RouterQueryEngine(\n",
        "    selector=PydanticSingleSelector.from_defaults(),\n",
        "    query_engine_tools=[\n",
        "        summary_tool,\n",
        "        vector_tool,\n",
        "    ],\n",
        "    verbose=True # this was added later to try to undersand\n",
        ")\n"
      ],
      "metadata": {
        "id": "9qvkE3JX5xKU"
      },
      "execution_count": null,
      "outputs": []
    },
    {
      "cell_type": "code",
      "source": [
        "response = query_engine.query(\"What is the 2024 outlook for US GDP?\")\n",
        "print(response)\n",
        "\n",
        "# note i tried to trick it by saying the vector tool description is for generating pictures.\n",
        "# it properly told me it cannot answer with the context it has."
      ],
      "metadata": {
        "colab": {
          "base_uri": "https://localhost:8080/"
        },
        "id": "Jr0KuSKD5xZ-",
        "outputId": "c1d01172-fd87-46e3-f2bc-813b9d27033a"
      },
      "execution_count": null,
      "outputs": [
        {
          "output_type": "stream",
          "name": "stdout",
          "text": [
            "\u001b[1;3;38;5;200mSelecting query engine 1: The question 'What is the 2024 outlook for US GDP?' requires retrieving specific context related to the data source..\n",
            "\u001b[0mThe 2024 outlook for US GDP is forecasted to be above-consensus with a growth rate of 2.1%.\n"
          ]
        }
      ]
    },
    {
      "cell_type": "code",
      "source": [
        "response = query_engine.query(\"Summarize the document\")\n",
        "print(response)"
      ],
      "metadata": {
        "colab": {
          "base_uri": "https://localhost:8080/"
        },
        "id": "zvlRUe7ZM5_F",
        "outputId": "2e90539d-4489-4f22-950b-53577edb5857"
      },
      "execution_count": null,
      "outputs": [
        {
          "output_type": "stream",
          "name": "stdout",
          "text": [
            "\u001b[1;3;38;5;200mSelecting query engine 0: The choice is useful for summarization questions related to the data source..\n",
            "\u001b[0mThe document provides an outlook on the US equity market for 2024, forecasting the S&P 500 index to end the year with a 5% price gain and a total return of 6% including dividends. It discusses factors influencing equity market performance such as GDP growth, profit margins, AI impact on earnings, and interest rates. The report emphasizes the outperformance of mega-cap tech stocks and suggests quality stocks as favorable investments. It covers concerns like recession fears, commercial real estate challenges, antitrust rulings, the US presidential election, and geopolitical tensions. The document also addresses investment recommendations, the impact of economic factors, interest rates, and geopolitical events on market outlook, and the dominance of mega-cap technology stocks in the market. Additionally, it provides insights into earnings growth forecasts, margin expansion, valuation forecasts, and potential scenarios affecting equity returns.\n"
          ]
        }
      ]
    },
    {
      "cell_type": "code",
      "source": [
        "response = query_engine.query(\"Summarize the document in three bullet points and each bullet no more than 20 words\")\n",
        "print(response)"
      ],
      "metadata": {
        "colab": {
          "base_uri": "https://localhost:8080/"
        },
        "id": "fpqMSVrmMV3K",
        "outputId": "22ab2870-ad83-4605-ba1f-642025d385e2"
      },
      "execution_count": null,
      "outputs": [
        {
          "output_type": "stream",
          "name": "stdout",
          "text": [
            "\u001b[1;3;38;5;200mSelecting query engine 0: Summarization questions related to the data source.\n",
            "\u001b[0m- Positive market outlook for 2024 with S&P 500 forecasted at 4700, driven by economic growth and stable margins.\n",
            "- Recommendations include owning quality and growth stocks, with earnings forecast predicting 5% growth in 2024 and 2025.\n",
            "- Mega-cap tech stocks expected to outperform but with unattractive risk/reward profile due to high expectations.\n"
          ]
        }
      ]
    },
    {
      "cell_type": "code",
      "source": [
        "response = query_engine.query(\"Is there any particular sector or vertical that it would be best to invest in for most gain?\")\n",
        "print(response)"
      ],
      "metadata": {
        "colab": {
          "base_uri": "https://localhost:8080/"
        },
        "id": "hukgJXu2MvK-",
        "outputId": "b80e5c01-99ae-4d54-ed19-67437d125756"
      },
      "execution_count": null,
      "outputs": [
        {
          "output_type": "stream",
          "name": "stdout",
          "text": [
            "\u001b[1;3;38;5;200mSelecting query engine 1: The question is seeking specific context related to the data source, which would be best addressed by choice (2).\n",
            "\u001b[0mInvesting in quality stocks with strong attributes, growth stocks with high returns on capital, and beaten-down cyclicals could potentially lead to significant gains based on the recommendations provided in the report. These sectors are highlighted as having favorable opportunities due to factors such as quality attributes, stable economic growth, and lower recession risk.\n"
          ]
        }
      ]
    },
    {
      "cell_type": "code",
      "source": [
        "# we discussed exactly how it knows which to use\n",
        "# someone mentined that Pydantic can also know that it's summary engine underneath.. so it may use both descriptin and type of q engine..\n",
        "# someone said that if u leave off desciption it may still work\n",
        "# watch pydanic video https://www.youtube.com/watch?v=yj-wSRJwrrc"
      ],
      "metadata": {
        "id": "LjUCO8VgZI7A"
      },
      "execution_count": null,
      "outputs": []
    },
    {
      "cell_type": "markdown",
      "source": [
        "# Sub Question Query Engine"
      ],
      "metadata": {
        "id": "JcdIt8vUiU5b"
      }
    },
    {
      "cell_type": "code",
      "source": [
        "from llama_index.core import VectorStoreIndex, SimpleDirectoryReader\n",
        "from llama_index.core.tools import QueryEngineTool, ToolMetadata\n",
        "from llama_index.core.query_engine import SubQuestionQueryEngine\n",
        "from llama_index.core.callbacks import CallbackManager, LlamaDebugHandler\n",
        "from llama_index.core import Settings\n",
        "\n",
        "# Using the LlamaDebugHandler to print the trace of the sub questions\n",
        "# captured by the SUB_QUESTION callback event type\n",
        "llama_debug = LlamaDebugHandler(print_trace_on_end=True)\n",
        "callback_manager = CallbackManager([llama_debug])\n",
        "\n",
        "Settings.callback_manager = callback_manager\n",
        "\n",
        "documents = SimpleDirectoryReader(\"./\").load_data(\"report.pdf\")\n",
        "\n",
        "# build index and query engine and store it in memory\n",
        "vector_query_engine = VectorStoreIndex.from_documents(\n",
        "    documents,\n",
        "    use_async=True,\n",
        ").as_query_engine()\n",
        "\n",
        "\n",
        "# setup base query engine as tool\n",
        "query_engine_tools = [\n",
        "    QueryEngineTool(\n",
        "        query_engine=vector_query_engine,\n",
        "        metadata=ToolMetadata(\n",
        "            name=\"documents\",\n",
        "            description=\"Report\",\n",
        "        ),\n",
        "    ),\n",
        "]\n",
        "\n",
        "query_engine = SubQuestionQueryEngine.from_defaults(\n",
        "    query_engine_tools=query_engine_tools,\n",
        "    use_async=True,\n",
        ")\n",
        "\n",
        "response = query_engine.query(\n",
        "    \"What is the outlook for the US economy?\"\n",
        ")\n",
        "\n",
        "print(response)"
      ],
      "metadata": {
        "colab": {
          "base_uri": "https://localhost:8080/"
        },
        "id": "NmmfVrOfiWu8",
        "outputId": "6f2b07b6-d09c-43a0-c8e1-c0d749a3b9af"
      },
      "execution_count": null,
      "outputs": [
        {
          "output_type": "stream",
          "name": "stderr",
          "text": [
            "Loading files: 100%|██████████| 1/1 [00:01<00:00,  1.05s/file]\n"
          ]
        },
        {
          "output_type": "stream",
          "name": "stdout",
          "text": [
            "**********\n",
            "Trace: index_construction\n",
            "    |_embedding -> 0.632457 seconds\n",
            "**********\n",
            "Generated 2 sub questions.\n",
            "\u001b[1;3;38;2;237;90;200m[documents] Q: What are the current economic indicators for the US economy?\n",
            "\u001b[0m\u001b[1;3;38;2;90;149;237m[documents] Q: What are the recent trends in the US GDP growth rate?\n",
            "\u001b[0m\u001b[1;3;38;2;90;149;237m[documents] A: The recent trends in the US GDP growth rate indicate that economists are forecasting above-consensus full-year GDP growth of 2.1% in 2024. However, this view is already reflected in current equity prices. Despite some economists forecasting a recession, the performance of cyclical stocks versus defensive stocks is consistent with a 2% real GDP growth regime.\n",
            "\u001b[0m\u001b[1;3;38;2;237;90;200m[documents] A: The current economic indicators for the US economy include the fear of a recession among investors despite a low likelihood according to Goldman Sachs, the commercial real estate challenges faced by regional banks, upcoming consequential antitrust rulings affecting Big Tech firms, the uncertainty surrounding the US presidential election, and significant geopolitical risks such as the Israel-Hamas War, the Russia-Ukraine War, and the US-China Trade War.\n",
            "\u001b[0m**********\n",
            "Trace: query\n",
            "    |_query -> 3.828544 seconds\n",
            "      |_llm -> 1.027925 seconds\n",
            "      |_sub_question -> 1.408072 seconds\n",
            "        |_query -> 1.406793 seconds\n",
            "          |_retrieve -> 0.174548 seconds\n",
            "            |_embedding -> 0.170136 seconds\n",
            "          |_synthesize -> 1.231576 seconds\n",
            "            |_templating -> 2.3e-05 seconds\n",
            "            |_llm -> 1.22555 seconds\n",
            "      |_sub_question -> 1.335904 seconds\n",
            "        |_query -> 1.334407 seconds\n",
            "          |_retrieve -> 0.252832 seconds\n",
            "            |_embedding -> 0.248764 seconds\n",
            "          |_synthesize -> 1.081014 seconds\n",
            "            |_templating -> 2.7e-05 seconds\n",
            "            |_llm -> 1.073998 seconds\n",
            "      |_synthesize -> 1.387411 seconds\n",
            "        |_templating -> 3.1e-05 seconds\n",
            "        |_llm -> 1.38276 seconds\n",
            "**********\n",
            "The outlook for the US economy is influenced by various factors such as the fear of a recession among investors, commercial real estate challenges for regional banks, upcoming antitrust rulings affecting Big Tech firms, uncertainty surrounding the US presidential election, and significant geopolitical risks including conflicts like the Israel-Hamas War, the Russia-Ukraine War, and the US-China Trade War. Economists are forecasting above-consensus full-year GDP growth of 2.1% in 2024, but this outlook is already factored into current equity prices. Despite some concerns about a potential recession, the performance of cyclical stocks versus defensive stocks aligns with a 2% real GDP growth scenario.\n"
          ]
        }
      ]
    },
    {
      "cell_type": "code",
      "source": [
        "documents"
      ],
      "metadata": {
        "colab": {
          "base_uri": "https://localhost:8080/"
        },
        "id": "_EPmXyFJGRvz",
        "outputId": "afddf11d-2b8a-44a1-8e99-44fe504c5951",
        "collapsed": true
      },
      "execution_count": null,
      "outputs": [
        {
          "output_type": "execute_result",
          "data": {
            "text/plain": [
              "[Document(id_='50f61222-af54-462f-a85c-9fd150cf4a09', embedding=None, metadata={'page_label': '1', 'file_name': 'report.pdf', 'file_path': '/content/report.pdf', 'file_type': 'application/pdf', 'file_size': 491913, 'creation_date': '2024-09-01', 'last_modified_date': '2024-08-30'}, excluded_embed_metadata_keys=['file_name', 'file_type', 'file_size', 'creation_date', 'last_modified_date', 'last_accessed_date'], excluded_llm_metadata_keys=['file_name', 'file_type', 'file_size', 'creation_date', 'last_modified_date', 'last_accessed_date'], relationships={}, text='We forecast the S&P 500 index will end 2024 at 4700, representing a 12-month \\nprice gain of 5% and a total return of 6% including dividends. Our baseline \\nassumption during the next year is the US economy continues to expand at a \\nmodest pace and avoids a recession, earnings rise by 5%, and the valuation of the \\nequity market equals 18x, close to the current P/E level. Our forecast falls slightly \\nbelow the typical 8% return during presidential election y ears. At this time next yea r, \\nportfolio managers will look back and realize the best investment strategy for 2024 \\nwas to follo w Taylor Swift ’s advice in the song from her 1989 album: “All You Had To \\nDo Was Stay” – invested. \\nOur macro forecasts imply a benign outcome for equities, but the current \\nstarting point will limit the potential appreciation for the benchmark US equity \\nindex in 2024. First, our economists forecast above-consensus GDP growth of 2.1% \\nin 2024, but this view is already reﬂected in equity prices. Second, margins have \\nstabilized, but substantial expansion from current elevated levels appears unlikel y. \\nThird, equity multiples appear fairly valued based on the current macro environment \\nbut are unlikely to expand in 2024. The equal-weight S&P 500 P/E multiple has \\nde-rated to the 74th percentile since 19 76, but the aggregate P/E still trades in the \\n87th percentile. The Fed has likely ﬁnished its hiking cycle but will remain on hold \\nuntil 4Q 2024 (vs. market pricing of a cut in 2Q). We also discuss upside and \\ndownside return scenarios, depending on the interest rate and growth outlook. \\nThe massive outperformance of the “Magniﬁcent 7” mega-cap tech stocks has \\nbeen a deﬁning feature of the equity market in 2023. The stocks should \\ncollectively outperform the remainder of the index in 2024. The 7 stocks have faster \\nexpected sales growth, higher margins, a greater re-investment ratio, and stronger \\nbalance sheets than the other 493 stocks and trade at a relative valuation in line with \\nrecent averages after accounting for expected growth. Ho wever, the risk/reward \\nproﬁle of this trade is not especially attractive given elevated expectations. David J. Kostin  \\n+1(212)902-6781  | david.kostin@gs.com  \\nGoldman Sachs & Co. LLC \\nBen Snider  \\n+1(212)357-1744  | ben.snider@gs.com  \\nGoldman Sachs & Co. LLC \\nRyan Hammond  \\n+1(212)902-5625  | \\nryan.hammond@gs.com  \\nGoldman Sachs & Co. LLC \\nCormac Conners  \\n+1(212)357-6308  | \\ncormac.x.conners@gs.com\\nGoldman Sachs & Co. LLC \\nLily Calcagnini  \\n+1(212)357-5913  | lily.calcagnini@gs.com  \\nGoldman Sachs & Co. LLC \\nJenny Ma  \\n+1(212)357-5775  | jenny.ma@gs.com  \\nGoldman Sachs & Co. LLC \\nDaniel Chavez  \\n+1(212)357-7657  | \\ndaniel.chavez@gs.com  \\nGoldman Sachs & Co. LLC2024 US Equity Outlook: “All You Had To Do Was Stay”15 November 2023 | 3:01AM EST\\nInvestors should consider this report as only a single factor in making their investment decision. For Reg AC  \\ncertiﬁcation and other important disclosures, see the Disclosure Appendix, or go to \\nwww.gs.com/research/hedge.html . \\nNote: The following is a redacted version of the original report published November 15, 2023 [39 pgs]. ', mimetype='text/plain', start_char_idx=None, end_char_idx=None, text_template='{metadata_str}\\n\\n{content}', metadata_template='{key}: {value}', metadata_seperator='\\n'),\n",
              " Document(id_='d0763e1b-8242-4164-93de-875507cf9d88', embedding=None, metadata={'page_label': '2', 'file_name': 'report.pdf', 'file_path': '/content/report.pdf', 'file_type': 'application/pdf', 'file_size': 491913, 'creation_date': '2024-09-01', 'last_modified_date': '2024-08-30'}, excluded_embed_metadata_keys=['file_name', 'file_type', 'file_size', 'creation_date', 'last_modified_date', 'last_accessed_date'], excluded_llm_metadata_keys=['file_name', 'file_type', 'file_size', 'creation_date', 'last_modified_date', 'last_accessed_date'], relationships={}, text='PM Summary: “Long Story Short” — S&P 500 will end 2024 at 4700 (+5%)  \\nThe launch of singe r-songwrit er Taylor Swift ’s “Eras” tour represented one of the \\nmost notable cultural events of 2023. Global ticket sales are estimated to exceed $1 \\nbillion. The tour’ s economic multiplier effect is signiﬁcant. As evidence, the Federal \\nReserve Bank of Philadelphia speciﬁcally noted in a recent Beige Book commentary that \\n“May was the strongest month for hotel revenue in Philadelphia since the onset of the \\npandemic, in large part due to an inﬂux of guests for the Taylor Swift concerts in the \\ncity.”  \\nThe Eras tour will conclude in late November 2024, roughly corresponding to the \\n12-month horizon of the market forecast in this report. As homage to the global\\nicon, our 2024 US Equity Outlook is subtitled “All You Had To Do Was Stay” – invested.\\nT\\nhe title of the song from Taylor Swift ’s 1989 album reﬂects our baseline forecast that\\ndespite intermittent volatilit y, fund managers will ultimately be rewarded for staying\\nin\\nvested through the end of next yea r.\\nContinued economic and EPS growth will lift the S&P 500 index to 4700 (+5%) at \\nthe end of next yea r. However, the benchmark will still remain slightly below its \\nJanuary 2022 all-time high of 479 7. Our interim 3-month (4500) and 6-month (4500) \\nS&P 500 index targets reﬂect a ﬂat market during 1H 2024 (Exhibit 1). We believe the \\nreturns to the index will be concentrated in 2H 2024. Resilient economic growth in the \\nbeginning of the year will force the market to push back its current pricing that Fed cuts \\nwill begin in 2Q, and US election uncertainty will suppress risk appetite. Later in the \\nyear, the ﬁrst Fed cut and resolution of election uncertainty will lift US equity prices. \\nExhibit 1: Goldman Sachs US Portfolio Strategy S&P 500 price targets: The path to 4700 at year-end 2024  \\n320036004000440048005200\\n2021 2022 2023 2024 2025S&P 500 index \\nGS forecastYE 2024:\\n4700\\n1H 2024:\\n4500Jul. 2023:\\n4589Jan. 2022:\\n4797\\nSource: Goldman Sachs Global Investment Research\\n15 November 2023   2Goldman Sachs', mimetype='text/plain', start_char_idx=None, end_char_idx=None, text_template='{metadata_str}\\n\\n{content}', metadata_template='{key}: {value}', metadata_seperator='\\n'),\n",
              " Document(id_='7b5c2086-d0de-4221-90db-1454752b90a8', embedding=None, metadata={'page_label': '3', 'file_name': 'report.pdf', 'file_path': '/content/report.pdf', 'file_type': 'application/pdf', 'file_size': 491913, 'creation_date': '2024-09-01', 'last_modified_date': '2024-08-30'}, excluded_embed_metadata_keys=['file_name', 'file_type', 'file_size', 'creation_date', 'last_modified_date', 'last_accessed_date'], excluded_llm_metadata_keys=['file_name', 'file_type', 'file_size', 'creation_date', 'last_modified_date', 'last_accessed_date'], relationships={}, text='We remain constructive on US equities, but the current starting point will limit the \\npotential appreciation for the index in 2024.  \\nFirst, our economists forecast above-consensus full-year GDP growth of 2.1% in \\n2024. However, this view is already reﬂected in current equity prices. Despite many \\neconomists forecasting a recession, the performance of cyclical stocks vs. defensive \\nstocks is consistent with a 2% real GDP growth regime. \\nSecond, margins have stabilized, but substantial expansion from the current \\nelevated level is unlikely due to diminishing tailwinds for S&P 500 proﬁtabilit y. \\nS&P 500 e x-Energy net proﬁt margins troughed in 4Q 2022 and have sequentially \\nimproved for three consecutive quarters. Ho wever, resilient input cost growth, rising \\ninterest expense, and higher effective tax rates will allow only minimal margin expansion \\nin 2024. Instead, proﬁt growth will equal sales growth. History shows that revenue \\ngrowth typically tracks nominal GDP growth. Sales-weighted global nominal GDP \\ngrowth is consistent with our 5% EPS growth forecast in both 2024 and 2025 to $237 \\nand $250 per share, respectivel y. \\nGenerative artiﬁcial intelligence (AI) represents one potential driver of corporate \\nearnings upside, but in most cases it will have limited impact on proﬁtability next \\nyear. Certain companies have been obvious nea r-term beneﬁciaries of the AI-driven \\ndemand for computing power to r un AI large language models. Other ﬁrms are potential \\nlong-term beneﬁciaries that may experience an EPS boost from the impact of AI \\nadoption on labor productivity in coming years. \\nCompared with consensus forecasts, our 2024 EPS estimate is above the median \\nearnings estimate of other strategists but below the bottom-up analyst \\nconsensus.  While we forecast stable margins, bottom-up consensus assumes \\nsigniﬁcant margin expansion that supports 11% EPS growth in both 2024 ($245) and \\n2025 ($273). The top-down consensus 2024 EPS estimate equals $230. Exhibit 2: The path of S&P 500 EPS  Exhibit 3: S&P 500 aggregate and equal-weight P/E  \\n $80 $120 $160 $200 $240 $280\\n2012 2014 2016 2018 2020 2022 2024 2026S&P 500 EPS \\nGS \\nforecast2023E\\n$224\\n(+1%)2024E\\n$237\\n(+5%)2025E\\n$250\\n(+5%)\\n12 x14 x16 x18 x20 x22 x24 x26 x\\n2015 2017 2019 2021 2023 2025S&P 500 P/E multiple\\nAggregate\\n(SPX)\\nEqual-weight\\n(SPW)2024E\\n14x2024E\\n18x\\nSource: FactSet, Goldman Sachs Global Investment Research Source: FactSet, Goldman Sachs Global Investment Research\\n15 November 2023   3Goldman Sachs', mimetype='text/plain', start_char_idx=None, end_char_idx=None, text_template='{metadata_str}\\n\\n{content}', metadata_template='{key}: {value}', metadata_seperator='\\n'),\n",
              " Document(id_='9015f80b-b5fb-4681-8dc9-1ffdedb6e20f', embedding=None, metadata={'page_label': '4', 'file_name': 'report.pdf', 'file_path': '/content/report.pdf', 'file_type': 'application/pdf', 'file_size': 491913, 'creation_date': '2024-09-01', 'last_modified_date': '2024-08-30'}, excluded_embed_metadata_keys=['file_name', 'file_type', 'file_size', 'creation_date', 'last_modified_date', 'last_accessed_date'], excluded_llm_metadata_keys=['file_name', 'file_type', 'file_size', 'creation_date', 'last_modified_date', 'last_accessed_date'], relationships={}, text='Third, our top-down valuation model suggests that at a forward P/E multiple of  \\n19x, the aggregate S&P 500 index trades in line with fair value on both a historical \\nabsolute basis and relative to interest rates, but is unlikely to expand meaningfully in 2024. Note that equity valuations appear less stretched in absolute and relative terms after adjusting for record high market concentration. The equal-weight S&P 500 has de-rated to the 74\\nth percentile P/E multiple since 1976, but the aggregate S&P 500 P/E \\nstill trades in the 87th percentile. The valuation premium of the aggregate vs. \\nequal-weight S&P 500 equals 27%, well above the historical average but below the Tech Bubble peak of 111% in 1999. \\nOur baseline macro forecasts point to a roughly unchanged equal-weight S&P 500 \\nP/E of 14x at year-end 2024 and a P/E of 18x for the aggregate S&P 500 index. We  \\nexpect the Fed has ﬁnished its hiking cycle and Treasury yields have peaked. Howeve\\n r, \\nsolid economic growth means the Fed will remain on hold until 4Q 2024, compared with market pricing of cuts beginning in 2Q. In our baseline, we assume real 10-year UST yields will equal 2.3% at year-end 2024. Based on our top-down valuation model, this macro combination supports the current P/E multiple, but implies little scope for valuation expansion. We forecast the yield gap will rise slightly from 315 bp today to 325 bp at year-end 2024. We believe the fundamentals of the largest stocks will support the current valuation premium of the aggregate vs. equal-weight S&P 500 index through 2024. \\nWe expect positive returns to equities, but a 5% return risk-free in cash remains a \\ncompetitive alternative. In the current interest rate environment, the 3-month Treasury bill yields 5.5%, similar to the earnings yield on the S&P 500 index. Households, mutual funds, pension funds, and foreign investors collectively have a current allocation to stocks (48%) ranking in the 97\\nth percentile vs. history while bond (20%) and cash (14%) \\nallocations rank at the 43rd and 23rd percentiles, respectively. We forecast most of these \\nownership categories will be net sellers of stocks in 2024. During 2023, money market mutual funds have received about $1 .2 trillion of net inﬂows compared with $17 billion inﬂows for US stocks. We forecast that at $550 billion net corporate buybacks will represent the largest source of demand for shares. \\nWe expect the equity market will oscillate in its pricing of alternative scenarios \\naround our baseline forecast. If economic growth is resilient but the Fed cuts the funds rate sooner than our economists expect, the corresponding valuation expansion would push the S&P 500 to 5000 (+11%). Howeve\\n r, if inﬂation concerns reignite, \\nleading to higher interest rates and weaker growth, valuations would contract and the S&P 500 would fall to 4150 (-8%). In a mild recession, we expect the S&P 500 would drop by 18% to 3700 at year-end 2024. \\n15 November 2023   4Goldman Sachs', mimetype='text/plain', start_char_idx=None, end_char_idx=None, text_template='{metadata_str}\\n\\n{content}', metadata_template='{key}: {value}', metadata_seperator='\\n'),\n",
              " Document(id_='330b4c28-74a3-499a-9bfe-e895649accd5', embedding=None, metadata={'page_label': '5', 'file_name': 'report.pdf', 'file_path': '/content/report.pdf', 'file_type': 'application/pdf', 'file_size': 491913, 'creation_date': '2024-09-01', 'last_modified_date': '2024-08-30'}, excluded_embed_metadata_keys=['file_name', 'file_type', 'file_size', 'creation_date', 'last_modified_date', 'last_accessed_date'], excluded_llm_metadata_keys=['file_name', 'file_type', 'file_size', 'creation_date', 'last_modified_date', 'last_accessed_date'], relationships={}, text='We were right, but wrong. \\nPublished exactly one year ago, our 2023 US Equity Outlook was subtitled \\n“Paradise Lost” in reference to the fact the cost of money was no longer free and \\nthe equity story for 2023 would be about the lack of earnings growth. T he ﬁrst \\nparagraph in the report predicted that “Zero earnings growth will match zero \\nappreciation in the S&P 500. Our valuation model implies an unchanged P/E multiple of \\n17x and a yea r-end index level of 4000. ”  \\nWe correctly predicted the aggregate S&P 500 index would show no proﬁt growth.  \\nWe originally forecast $224 of EPS and 10½ months into the year the market is on track \\nto deliver earnings in line with that numbe r. The equal-weighted S&P 500 index has also \\nposted ﬂat EPS.  \\nHowever, we were wrong because, while the equal-weight index has posted \\nvirtually no appr eciation YTD, the aggregate index has posted a 19% total return \\nled by stellar returns of a select few mega-cap stocks. The combination of strong \\nrealized sales growth, upward estimate revisions, association with the AI theme, and \\nvaluation expansion explain the narrow rall y. The “Magniﬁcent 7” (AAPL, MSFT , GOOGL, \\nAMZN, NVDA, ME TA, TSLA) now comprise 29% of S&P 500 market cap and collectively \\nhave returned 71% YTD . The remaining 493 stocks in the index have returned just 6%. \\nOur baseline forecast suggests that mega-cap tech stocks will continue to \\noutperform the remainder of the S&P 500 in 2024, but the risk/reward proﬁle of \\nthis trade is not particularly attractive given elevated expectations. The Magniﬁcent \\n7 stocks collectively have faster expected 2023-2025 sales growth ( 11% vs. 3%), higher \\n2023 margins (22% vs. 10%) and a greater re-investment ratio (61% vs. 18%) than the \\nother 493 stocks and trade at a relative valuation in line with recent averages after \\naccounting for expected growth (0.9x relative PEG ratio). Ho wever, the risk/reward of \\nthis trade is not particularly attractive given high expectations. Elevated hedge fund \\nownership and a potential inﬂection in AI enthusiasm represent two risks to the \\nmega-cap tech stocks. Exhibit 4: S&P 500 2023 EPS: GS vs. consensus  Exhibit 5: S&P 500 price performance: Aggregate vs. equal-weight  \\n$205$210$215$220$225$230$235\\nDec-22 Mar-23 Jun-23 Sep-23 Dec-23GS top-down \\nestimate\\n$224\\n$221\\nBottom-up \\nconsensus \\nestimateS&P 500 2023 EPS estimates\\nTop-down \\nconsensus \\nestimate$218\\n9095100105110115120125\\nJan Feb Mar Apr May Jun Jul Aug Sep Oct Nov DecS&P 500 indexed price \\nperformance YTD\\nAggregate\\n(SPX )\\nEqual-weight\\n(SPW)2%17%\\nSource: Bloomberg, FactSet, Goldman Sachs Global Investment Research Source: Goldman Sachs Global Investment Research\\n15 November 2023   5Goldman Sachs', mimetype='text/plain', start_char_idx=None, end_char_idx=None, text_template='{metadata_str}\\n\\n{content}', metadata_template='{key}: {value}', metadata_seperator='\\n'),\n",
              " Document(id_='eb0c6cec-ab5b-47e7-8100-2961f0f3216c', embedding=None, metadata={'page_label': '6', 'file_name': 'report.pdf', 'file_path': '/content/report.pdf', 'file_type': 'application/pdf', 'file_size': 491913, 'creation_date': '2024-09-01', 'last_modified_date': '2024-08-30'}, excluded_embed_metadata_keys=['file_name', 'file_type', 'file_size', 'creation_date', 'last_modified_date', 'last_accessed_date'], excluded_llm_metadata_keys=['file_name', 'file_type', 'file_size', 'creation_date', 'last_modified_date', 'last_accessed_date'], relationships={}, text='Although we forecast a below-average annual return at the S&P 500 index level,  \\nmore attractive investment opportunities exist beneath the surface. We highlight \\nthree recommendations:  \\n1.Own quality stocks alongside persistent “late cycle” anxiety. Investors should \\ntilt their portfolios toward stocks with “quality” attributes in an environment of \\npersistent investor concern about an impending recession. Despite our economists’ \\noptimistic US economic growth outlook, it seems likely that widespread economic \\nanxiety will generally remain elevated next year . This should support the \\noutperformance of stocks with “quality” attributes such as high proﬁtability , strong \\nbalance sheets, stable sales and earnings growth, and low historical drawdown risk. \\n2.Own growth stocks with high returns on capital given stable economic growth \\nand interest rates. We identify regimes in which both market pricing of growth and  \\ninterest rates do not increase or decrease drastically during 6-month periods and ﬁnd \\nthat our long/short Growth and Returns factors typically perform well during these \\nperiods.  \\n3.Own beaten-down cyclicals given recession risk is lower than feared. Our \\neconomists’ full-year 2024 US real GDP growth forecast of 2.1% is 1 pp higher than \\nconsensus. While cyclicals on average are pricing economic growth consistent with our \\neconomists’ forecast ( Exhibit 18), there are some cyclical stocks that have lagged \\nmeaningfully and present attractive tactical opportunities if economic data surprise to \\nthe upside relative to consensus expectations. \\n15 November 2023   6Goldman Sachs', mimetype='text/plain', start_char_idx=None, end_char_idx=None, text_template='{metadata_str}\\n\\n{content}', metadata_template='{key}: {value}', metadata_seperator='\\n'),\n",
              " Document(id_='fd1e14ee-569f-4727-abdc-923f4137a8ec', embedding=None, metadata={'page_label': '7', 'file_name': 'report.pdf', 'file_path': '/content/report.pdf', 'file_type': 'application/pdf', 'file_size': 491913, 'creation_date': '2024-09-01', 'last_modified_date': '2024-08-30'}, excluded_embed_metadata_keys=['file_name', 'file_type', 'file_size', 'creation_date', 'last_modified_date', 'last_accessed_date'], excluded_llm_metadata_keys=['file_name', 'file_type', 'file_size', 'creation_date', 'last_modified_date', 'last_accessed_date'], relationships={}, text='Despite our optimistic baseline market outlook, portfolio managers will need to  \\nstay invested through volatility around several economic, ﬁnancial, corporate,  \\npolitical, and geopolitical “known knowns” on the 2024 calendar:   \\nnEconomically, fear of a recession will plague investors despite the Goldman Sachs\\neconomics view that the likelihood of a recession beginning during the next year is\\nonly 15% (vs. Bloomberg consensus of 55%).\\nnFinancially, the commercial real estate plight will likely imperil several regional\\nbanks holding mortgages where the collateral value is below the loan amount. As of\\n3Q, US banks held $2.8 trillion of commercial real estate loans and 64% of the total\\n($1 .8 trillion) was held by banks with less than $100 billion of assets. More than\\n$500 billion of commercial real estate loans will mature in 2024.\\nnFrom a corporate perspective, “unknowns” include at least one consequential\\nantitrust ruling expected in 1Q (US vs. Google ) as well as many other government\\nlawsuits in the US and the EU alleging monopolistic practices by leading “Big Tech”\\nﬁrms such as AMZN, META, and AAPL that collectively account for 29% of the S&P\\n500 index.\\nnPolitically, the quadrennial sweepstakes also known as the US presidential election\\nwill take place in just 51 weeks. Prediction markets are signaling that a Biden-Trump\\nrematch is the most likely general election contest. Recent polls suggest the general\\nelection is basically a toss-up.\\nnGeopolitically, the Israel-Hamas War, the Russia-Ukraine War, and the US-China\\nTrade War remain enormous sources of potential ﬁnancial market risk.\\nIn the Federal Reserve’s semiannual Financial Stability Report, survey participants \\nidentify risks to their market outlooks. The most recent report highlighted persistent \\ninﬂation and monetary polic y, commercial and residential real estate, and banking sector \\nstress as the top three risks.\\n15 November 2023   7Goldman Sachs', mimetype='text/plain', start_char_idx=None, end_char_idx=None, text_template='{metadata_str}\\n\\n{content}', metadata_template='{key}: {value}', metadata_seperator='\\n'),\n",
              " Document(id_='059a5988-f8b5-475e-991f-818ca8913973', embedding=None, metadata={'page_label': '8', 'file_name': 'report.pdf', 'file_path': '/content/report.pdf', 'file_type': 'application/pdf', 'file_size': 491913, 'creation_date': '2024-09-01', 'last_modified_date': '2024-08-30'}, excluded_embed_metadata_keys=['file_name', 'file_type', 'file_size', 'creation_date', 'last_modified_date', 'last_accessed_date'], excluded_llm_metadata_keys=['file_name', 'file_type', 'file_size', 'creation_date', 'last_modified_date', 'last_accessed_date'], relationships={}, text='Earnings: “Out of the Woods” — 5% growth in both 2024 and 2025  \\nFollowing 1% proﬁt growth in 2023 ($224), we forecast S&P 500 EPS will grow by \\n5% in 2024 ($237) and by 5% in 2025 ($250).  Excluding Financials, Real Estate, and \\nUtilities, we expect revenues to increase by 5% next yea r, in line with nominal GDP \\ngrowth, and margins to expand by 19 bp to 1 1.4%. Similarly, our forecast for 2025 \\nreﬂects modest 5% sales growth and a further 15 bp of margin expansion to 11.6%. We \\nmodel sales, margins, and EPS as a function of economic growth, inﬂation, interest \\nrates, oil, and the USD. \\nOur top-down 2024 EPS estimate of $237 is above the top-down strategist \\nconsensus forecast of $230 (+6% growth) but below bottom-up analyst consensus \\nof $245 (+11% growth). Based on our macro earnings model, US economic growth \\naccounts for roughly 50% of the variability in annual EPS growth. Our economists \\nforecast real US economic growth will average 2.1% in 2024 (vs. consensus of 1 .0%). \\nThey assign a 15% probability of a recession beginning during the next 12 months, well \\nbelow the consensus of 55%. Above-trend economic growth is the primary reason our \\nEPS forecast exceeds the top-down consensus. \\nHowever, our EPS estimates are below the bottom-up analyst consensus \\nforecasts. The literal bottom line is that consensus forecasts 2025 S&P 500 net \\nmargins will be 100 bp greater than our baseline (12.6% vs. 1 1.6%). The longstanding \\nEPS revision pattern is that during the 24-month forecast horizon analysts cut their \\ninitial EPS estimate by 8%. If history is a guide, the bottom-up consensus 2025 EPS \\nestimate of $273 will be lowered by 8% to $251 – consistent with our current 2025 \\nestimate of \\n$250. \\nSubstantial margin expansion from the current elevated level is unlikely due to \\ndiminishing tailwinds for S&P 500 proﬁtability. We forecast margins for the aggregate S&P 500 index will increase by a modest 35 bp during the next two years Exhibit 7: Goldman Sachs top-down vs. consensus top-down and bottom-up forecasts  \\nGS top-down Cons. BOTTOM-UP\\n2022 2023E 2024E 2025E 2023E 2024E 2025E\\nS&P 500 ex. Fin, RE, Utils\\nSales growth 13 % 3 % 5 % 5 % 2 % 5 % 6 %\\nProfit Margin 11.6% 11.2% 11.4% 11.6% 11.0% 11.9% 12.6%\\nYear/Year growth (21)bp (39)bp 19 bp 15 bp (60)bp 86 bp 68 bp\\nS&P 500 adjusted EPS $222 $224 $237 $250 $221 $245 $273\\nYear/Year growth 6 % 1 % 5 % 5 % (0)% 11 % 11 %\\nCons. TOP-DOWN\\n2023E 2024E 2025E\\n$218 $230 NA\\n(2)% 6 % NA\\nSource: FactSet, Bloomberg, Goldman Sachs Global Investment Research\\n15 November 2023   8Goldman Sachs', mimetype='text/plain', start_char_idx=None, end_char_idx=None, text_template='{metadata_str}\\n\\n{content}', metadata_template='{key}: {value}', metadata_seperator='\\n'),\n",
              " Document(id_='6890104a-ce05-42a2-a6a7-1a1b3a94098d', embedding=None, metadata={'page_label': '9', 'file_name': 'report.pdf', 'file_path': '/content/report.pdf', 'file_type': 'application/pdf', 'file_size': 491913, 'creation_date': '2024-09-01', 'last_modified_date': '2024-08-30'}, excluded_embed_metadata_keys=['file_name', 'file_type', 'file_size', 'creation_date', 'last_modified_date', 'last_accessed_date'], excluded_llm_metadata_keys=['file_name', 'file_type', 'file_size', 'creation_date', 'last_modified_date', 'last_accessed_date'], relationships={}, text='while consensus forecasts expansion of 150 bp (Exhibit 7 ). Although operating leverage \\nshould support margins, headwinds include resilient wage growth, “higher for longer” \\ninterest rates, and higher tax expense. Our analysis of the long-term drivers of \\nproﬁtability found that declining costs of goods sold has contributed almost 70% of the \\n700 bp expansion in S&P 500 net proﬁt margin since 1990 (Exhibit 9) . Geopolitical \\ntensions and efforts to onshore or nearshore operations are additional challenges to \\nsigniﬁcant proﬁt margin expansion. On the other hand, the adoption of AI is a potential \\nsource of upside risk to margins if companies become more productive or reduce labor \\ncosts. \\nExhibit 8: We forecast modest expansion in S&P 500 net margins  Exhibit 9: Drivers of S&P 500 proﬁt margin expansion  \\n3 %4 %5 %6 %7 %8 %9 %10 %11 %12 %13 %14 %\\n1990 1994 1998 2002 2006 2010 2014 2018 2022 2026S&P 500\\nnet profit margin\\n(trailing 4 quarters)\\nGS\\nforecast\\n4.7%4.81.61.30.9 0.6\\n1.1 11.6% 11.6%\\n0%2%4%6%8%10%12%14%16%\\nProfit\\nmargin\\nin 1990COGS Interest Tax Deprec.\\n& otherSG&A R&D Profit\\nmargin\\nin 20222025EContribution to S&P 500 net \\nprofit margin expansion \\nsince 199012.6%Bottom-up\\nconsensus\\nGoldman \\nSachs\\nSource: Goldman Sachs Global Investment Research Source: Goldman Sachs Global Investment Research\\n15 November 2023   9Goldman Sachs', mimetype='text/plain', start_char_idx=None, end_char_idx=None, text_template='{metadata_str}\\n\\n{content}', metadata_template='{key}: {value}', metadata_seperator='\\n'),\n",
              " Document(id_='0373ac13-9ce1-4691-af45-aaedcc65bc0e', embedding=None, metadata={'page_label': '10', 'file_name': 'report.pdf', 'file_path': '/content/report.pdf', 'file_type': 'application/pdf', 'file_size': 491913, 'creation_date': '2024-09-01', 'last_modified_date': '2024-08-30'}, excluded_embed_metadata_keys=['file_name', 'file_type', 'file_size', 'creation_date', 'last_modified_date', 'last_accessed_date'], excluded_llm_metadata_keys=['file_name', 'file_type', 'file_size', 'creation_date', 'last_modified_date', 'last_accessed_date'], relationships={}, text='Valuation: “Champagne Problems” — S&P 500 trades at a P/E of 18x  \\nRestrictive monetary policy for most of next year will keep the fed funds rate  \\nhigher-for-longer than consensus expects and will constrain equity valuation \\nexpansion. Our economists believe that July 2023 marked the ﬁnal Fed hike of this tightening cycle and that the funds rate is unlikely to rise above the current 5.25%-5.50% level. Howeve\\n r, our economists expect that, amid resilient economic \\ngrowth, the Fed will remain on hold until 4Q 2024 when core PCE falls below 2.5%. That forecast stands in contrast with the 100 bp of Fed cuts in 2024 currently reﬂected in forward market pricing. \\nHistorically, equity valuations have expanded following the end of Fed hiking \\ncycles, but multiple expansion is usually accompanied by a decline in bond yields.  \\nIn October, 10-year nominal and real 10-year US Treasury yields likely peaked for this cycle at just below 5% and just above 2.5%, respectively. Howeve\\n r, our economists \\nforecast the 10-year Treasury yield at the end of 2024 will equal 4.6%, modestly above the current level. Our baseline forecast assumes the real 10-year US Treasury yield ends next year at 2.3%, modestly above the current level. Our expectation of a broadly stable interest rate regime is consistent with our baseline forecast of stable equity valuations. \\nWe forecast at year-end 2024 the aggregate S&P 500 forward P/E multiple will \\nequal 18x, roughly unchanged from the current level. Our top-down valuation model suggests that the S&P 500 trades in line with fair value on both a historical absolute basis and relative to interest rates. Based on this model, we forecast that the yield gap between equities and real yields will rise slightly to 325 bp and rank at the 88\\nth \\npercentile vs. history. The yield gap, a proxy for the equity risk premium, is at the narrowest level since 2002. Our model suggests the yield gap in 2024 will be broadly consistent with the level that prevailed prior to the Global Financial Crisis. \\n15 November 2023   10Goldman Sachs', mimetype='text/plain', start_char_idx=None, end_char_idx=None, text_template='{metadata_str}\\n\\n{content}', metadata_template='{key}: {value}', metadata_seperator='\\n'),\n",
              " Document(id_='8a3a5e71-6d29-40d2-a912-6d9316b54b46', embedding=None, metadata={'page_label': '11', 'file_name': 'report.pdf', 'file_path': '/content/report.pdf', 'file_type': 'application/pdf', 'file_size': 491913, 'creation_date': '2024-09-01', 'last_modified_date': '2024-08-30'}, excluded_embed_metadata_keys=['file_name', 'file_type', 'file_size', 'creation_date', 'last_modified_date', 'last_accessed_date'], excluded_llm_metadata_keys=['file_name', 'file_type', 'file_size', 'creation_date', 'last_modified_date', 'last_accessed_date'], relationships={}, text='T o account for the outsized impact of the largest tech stocks on the aggregate P/E  \\nmultiple, we decompose our valuation forecast into two components: First, we \\nmodel the equal-weight S&P 500 forward P/E. Second, we model the premium of the aggregate P/E to the equal-weight P/E. We combine these two forecasts to arrive at a forecast for the aggregate P/E multiple. \\nOur baseline macro forecasts point to a roughly unchanged equal-weight S&P 500 \\nP/E of 14x at year-end 2024 that would rank in the 65\\nth percentile since 1976. In \\ncontrast, the aggregate S&P 500 P/E of 18x will rank in the 83rd percentile versus \\nhistory. Current equity valuations appear less stretched in absolute and relative terms after adjusting for record high market concentration. We model the equal-weight P/E as Exhibit 10: Aggregate vs. equal-weight S&P 500 P/E  \\n5 x10 x15 x20 x25 x30 x\\n1990 1995 2000 2005 2010 2015 2020 2025S&P 500 P/E multipleAggregate\\n(SPX)\\nEqual-weight\\n(SPW)2024E\\n14x2024E\\n18x\\nAverage since \\n1990: 16x\\nAverage: 14x\\nSource: FactSet, Goldman Sachs Global Investment Research\\nExhibit 11: The path of real yields  Exhibit 12: We expect the yield gap will remain narrow  \\n(2)%(1)%0 %1 %2 %3 %4 %5 %6 %\\n1985 1990 1995 2000 2005 2010 2015 2020 2025Real 10-year UST yield\\nGS\\n2024E:\\n2.3%\\nCurrent :\\n2.2%\\n(200)bp0 bp200 bp400 bp600 bp800 bp1000 bp1200 bp\\n1985 1990 1995 2000 2005 2010 2015 2020 2025 2030S&P 500 EPS yield gap vs.\\nreal 10-year US Treasury\\nActual\\nModeled\\nCurrent :\\n315 bpGS\\n2024E :\\n325 bp\\nSource: Goldman Sachs Global Investment Research Source: FactSet, Goldman Sachs Global Investment Research\\n15 November 2023   11Goldman Sachs', mimetype='text/plain', start_char_idx=None, end_char_idx=None, text_template='{metadata_str}\\n\\n{content}', metadata_template='{key}: {value}', metadata_seperator='\\n'),\n",
              " Document(id_='316636ae-54f2-4893-a8d5-f549918f4b97', embedding=None, metadata={'page_label': '12', 'file_name': 'report.pdf', 'file_path': '/content/report.pdf', 'file_type': 'application/pdf', 'file_size': 491913, 'creation_date': '2024-09-01', 'last_modified_date': '2024-08-30'}, excluded_embed_metadata_keys=['file_name', 'file_type', 'file_size', 'creation_date', 'last_modified_date', 'last_accessed_date'], excluded_llm_metadata_keys=['file_name', 'file_type', 'file_size', 'creation_date', 'last_modified_date', 'last_accessed_date'], relationships={}, text='a function of real yields, the distance of forward inﬂation from 2%, the tightness of the  \\nlabor market, demographics, and the change in earnings growth. \\nWe believe the fundamentals of the largest stocks will support the current \\nvaluation premium of the aggregate vs. equal-weight index through 2024. The  \\nvaluation premium of the aggregate vs. equal-weight S&P 500 equals 27%, well above the historical average. We model this premium as a function of the difference in aggregate vs. median long-term EPS growth and return on equity, as well as CEO conﬁdence. Long-term expected EPS growth for the aggregate index equals 14%, vs. 9% for the equal-weight S&P 500, and LTM aggregate ROE equals 21%, vs. 18% for the equal-weight S&P 500. Based on consensus and GS analyst estimates, the largest stocks will likely maintain their premium growth, proﬁtability, and therefore valuation premium. \\nFrom a return perspective, we forecast the aggregate S&P 500 index (SPX) will outperform the equal-weight index (SPW) by a much narrower gap than in 2023 when the aggregate has outperformed by 1,500 bp YTD (+19% vs. +4%). Exhibit 14\\n \\nshows the distribution of 2024 earnings growth for all 500 constituents of the index. Consensus expects the aggregate S&P 500 EPS will grow by 11% compared with 8% for the equal-weight index. Given our valuation model forecasts stable multiples for both indices, the superior return of the aggregate index will stem from its greater earnings growth. Investors should note that while the difference in 2024 EPS growth between the aggregate and equal-weight S&P 500 indices is 300 bp, the gap in EPS growth between the “Magniﬁcent 7” and the remaining 493 stocks is three times as large, a substantial 9 pp (17% vs. 8%) because the left side of the distribution contains some large-cap stocks that are forecast to have negative EPS growth. Exhibit 13: Our model suggests the aggregate index will maintain its premium to the equal-weight index  \\n(20)%0 %20 %40 %60 %80 %100 %120 %\\n1985 1990 1995 2000 2005 2010 2015 2020 2025 2030Aggregate vs. Equal-weight\\nS&P 500 P/E premium\\nCurrent :\\n27%\\nGS\\n2024E :\\n26%ModeledActual\\nSource: FactSet, Goldman Sachs Global Investment Research\\n15 November 2023   12Goldman Sachs', mimetype='text/plain', start_char_idx=None, end_char_idx=None, text_template='{metadata_str}\\n\\n{content}', metadata_template='{key}: {value}', metadata_seperator='\\n'),\n",
              " Document(id_='b52d9a36-deab-4fbe-b6b0-999e8bd098f3', embedding=None, metadata={'page_label': '13', 'file_name': 'report.pdf', 'file_path': '/content/report.pdf', 'file_type': 'application/pdf', 'file_size': 491913, 'creation_date': '2024-09-01', 'last_modified_date': '2024-08-30'}, excluded_embed_metadata_keys=['file_name', 'file_type', 'file_size', 'creation_date', 'last_modified_date', 'last_accessed_date'], excluded_llm_metadata_keys=['file_name', 'file_type', 'file_size', 'creation_date', 'last_modified_date', 'last_accessed_date'], relationships={}, text='Exhibit 14: Difference between aggregate and equal-weight S&P 500 EPS growth is much smaller than  \\nMagniﬁcent 7 vs. S&P 493 \\n02468101214\\n<-20% -18% -14% -10% -6% -2% 2% 6% 10% 14% 18% 22% 26% >30%% of S&P 500 Companies\\n2024E earnings growthDistribution of \\n2024E S&P 500\\nearnings growthS&P 493: +8%\\nSPW: +8%\\nMagnificent 7:\\n+17%SPX: +11%\\nSource: FactSet, Goldman Sachs Global Investment Research\\n15 November 2023   13Goldman Sachs', mimetype='text/plain', start_char_idx=None, end_char_idx=None, text_template='{metadata_str}\\n\\n{content}', metadata_template='{key}: {value}', metadata_seperator='\\n'),\n",
              " Document(id_='3d9dda59-6330-4e69-b84a-0813b1ea2f12', embedding=None, metadata={'page_label': '14', 'file_name': 'report.pdf', 'file_path': '/content/report.pdf', 'file_type': 'application/pdf', 'file_size': 491913, 'creation_date': '2024-09-01', 'last_modified_date': '2024-08-30'}, excluded_embed_metadata_keys=['file_name', 'file_type', 'file_size', 'creation_date', 'last_modified_date', 'last_accessed_date'], excluded_llm_metadata_keys=['file_name', 'file_type', 'file_size', 'creation_date', 'last_modified_date', 'last_accessed_date'], relationships={}, text='Alternative return scenarios: “Blank Space” — Upside and downside  \\nOur baseline expectation that the aggregate S&P 500 index will post a 6% total  \\nreturn in 2024 is slightly below the typical return during presidential election \\nyears. Putting aside uncertainty about the path of economic growth and interest rates, S&P 500 returns during years that included a US presidential election have closely resembled the unconditional trend. In 12 presidential election years since 1976, the aggregate S&P 500 index registered an 8% average total return, similar to the unconditional average return of 11%. Equal-weighted S&P 500 returns during election years outpaced the aggregate index by 300 bp annually with an average 11% return. \\nReturns during election years are typically stronger post-Election Day and driven \\nmore by earnings growth than change in valuation. In the median election year since 1976, the S&P 500 has typically appreciated by 5% between the start of the year and Election Day and risen 4% post-Election Day through year-end. Aggregate valuations were roughly ﬂat during election years. Our interim 3-month (4500) and 6-month (4500) S&P 500 index targets reﬂect a ﬂat market during 1H 2024. \\nExhibit 15: Distribution of S&P 500 12-month total returns since 1976: Baseline and alternative scenarios  \\n0102030405060708090100\\n- 4 0 - 3 0 - 2 0 - 1 00 1 02 03 04 05 0Frequency\\nS&P 500 12-month total returnDistribution of S&P 500\\n12-month total returns\\n(since 1976)Unconditional \\naverage: +11%\\nPresidential\\nelection year\\naverage: +8%\\nGS baseline: +6%\\nSlower growth,\\nhigher yields: -6%Faster growth, \\nlower yields: +13%\\nRecession:\\n-16%\\nGS baseline and scenarios reﬂect total return including dividends.  \\nSource: Goldman Sachs Global Investment Research\\n15 November 2023   14Goldman Sachs', mimetype='text/plain', start_char_idx=None, end_char_idx=None, text_template='{metadata_str}\\n\\n{content}', metadata_template='{key}: {value}', metadata_seperator='\\n'),\n",
              " Document(id_='bd17a510-30b7-42b2-a583-76bbbbecd2d0', embedding=None, metadata={'page_label': '15', 'file_name': 'report.pdf', 'file_path': '/content/report.pdf', 'file_type': 'application/pdf', 'file_size': 491913, 'creation_date': '2024-09-01', 'last_modified_date': '2024-08-30'}, excluded_embed_metadata_keys=['file_name', 'file_type', 'file_size', 'creation_date', 'last_modified_date', 'last_accessed_date'], excluded_llm_metadata_keys=['file_name', 'file_type', 'file_size', 'creation_date', 'last_modified_date', 'last_accessed_date'], relationships={}, text='Our relatively benign macro forecast is currently reﬂected in the equity market.  \\nAccordingly, we believe investors should be particularly focused on the \\ndistribution of risks around our baseline forecast. While our economists’ forecast that the US will avoid a recession in 2024 is an outlier relative to consensus, that view is already priced in the US equity market. The performance of cyclical stocks vs. defensive stocks (GSPUCYDE) is consistent with a 2% real GDP growth regime (Exhibit 18\\n). We \\ndiscuss below three alternative paths for the equity market in 2024 (Exhibit 19 ). \\nFaster growth, lower yields: In a scenario where inﬂation and bond yields fall more quickly than we expect but growth remains strong, we expect the S&P 500 would end 2024 at 5000 (+11%). The relief from peak and falling bond yields would more Exhibit 16: Average S&P 500 returns and changes in P/E by year of  \\npresidential cycle Exhibit 17: Election year seasonality  \\n12%\\n5%15%\\n6%7 %\\n(1)%7 %\\n(1)%\\n(5)%0%5%10%15%20%\\nYear 1\\n(2021)Year 2\\n(2022)Year 3\\n(2023)Year 4\\n(2024)Price return\\nChange in forward P/EAverage S&P 500 returns\\nby year of presidential cycle\\nsince 1976\\n98100102104106108110112114\\nJan Feb Mar Apr May Jun Jul Aug Sep Oct Nov DecS&P 500 seasonality\\n1976-2022\\n(median)\\nPresidential \\nelection yearNon-Presidential\\nelection yearElection Day\\nSource: Goldman Sachs Global Investment Research Source: Goldman Sachs Global Investment Research\\nExhibit 18: US equities are pricing real GDP growth of roughly 2%  \\n(2)%(1)%0 %1 %2 %3 %4 %5 %6 %\\n707580859095100105110115120\\n2010 2012 2014 2016 2018 2020 2022 2024Indexed return of \\nCyclicals vs. Defensives ex. \\ncommodities\\n(left axis)\\nUS Current Activity Indicator \\n(3m average, right axis)\\nSource: Goldman Sachs Global Investment Research\\n15 November 2023   15Goldman Sachs', mimetype='text/plain', start_char_idx=None, end_char_idx=None, text_template='{metadata_str}\\n\\n{content}', metadata_template='{key}: {value}', metadata_seperator='\\n'),\n",
              " Document(id_='663b9732-7368-4d8a-bdd3-7f7e4f7bb78c', embedding=None, metadata={'page_label': '16', 'file_name': 'report.pdf', 'file_path': '/content/report.pdf', 'file_type': 'application/pdf', 'file_size': 491913, 'creation_date': '2024-09-01', 'last_modified_date': '2024-08-30'}, excluded_embed_metadata_keys=['file_name', 'file_type', 'file_size', 'creation_date', 'last_modified_date', 'last_accessed_date'], excluded_llm_metadata_keys=['file_name', 'file_type', 'file_size', 'creation_date', 'last_modified_date', 'last_accessed_date'], relationships={}, text='closely mirror the historical playbook at the end of Fed hiking cycles, with valuations  \\nexpanding modestly to 19x. Equity returns would also beneﬁt from more rapid economic \\nand earnings growth. At 5000, the index would trade 4% above the January 2022 all-time high of nearly 4800. \\nSlower growth, higher yields: In a scenario where the economy manages to avoid \\na recession but bond yields rise by more than we expect, we forecast the S&P 500 would end 2024 at 4150 (-8%). The resulting slowdown in economic and earnings growth would be exacerbated by valuation contraction in the higher interest rate environment. This backdrop could prove particularly challenging for the mega-cap tech stocks, which tend to be longer duration equities and well-owned among hedge funds, although the strength of their balance sheets would likely provide some insulation. \\nRecession: In a recession, we expect the S&P 500 would end 2024 at 3700 (-18%). \\nAlthough not our baseline, we consider a relatively mild recession scenario. If a recession materializes and real GDP contracts, it would likely lead to a 15% decline in EPS in 2024, before rebounding by 9% in 2025. Howeve\\n r, consensus estimates would \\nbe cut more gradually, with 2025 EPS estimates declining to roughly halfway between today’s bottom-up consensus estimate of $273 and our recession scenario EPS of $209. We also assume the Fed would respond to the recession by easing the policy rate, leading real yields lower and cushioning the potential valuation decline. We forecast the S&P 500 P/E would contract to 15x. For historical context, during prior economic downturns S&P 500 EPS experienced a peak-to-trough decline of 11% and the index level typically fell by 24%, although prices and valuations typically bottom faster than earnings. \\nExhibit 19: S&P 500 index scenarios at year-end 2024  \\nFaster growth Slower growth\\nBaseline lower yields higher yields Recession\\n2024 EPS growth 5% 9% 1% ( 1 5 ) %\\nEqual-weight P/E 14 x 15 x 13 x 13 x\\n%ile rank vs. history 65% 77% 58% 53%\\nAggregate P/E 18 x 19 x 16 x 15 x\\n%ile rank vs. history 83% 86% 71% 64%\\nReal 10-yr UST yield 2.3 % 1.8 % 3.0 % 1.3 %\\nS&P 500 level 4700 5000 4150 3700\\n% total return vs. c urrent 6 % 13 % (6)% (16)%\\n%ile rank since 1976 29% 47% 13% 5%\\nGS subjective probability 50% 25% 10% 15%\\nGS baseline and scenarios reﬂect total return including dividends.  \\nSource: Goldman Sachs Global Investment Research\\n15 November 2023   16Goldman Sachs', mimetype='text/plain', start_char_idx=None, end_char_idx=None, text_template='{metadata_str}\\n\\n{content}', metadata_template='{key}: {value}', metadata_seperator='\\n'),\n",
              " Document(id_='5c66de9b-e7e4-4639-8702-51d13f987b1c', embedding=None, metadata={'page_label': '17', 'file_name': 'report.pdf', 'file_path': '/content/report.pdf', 'file_type': 'application/pdf', 'file_size': 491913, 'creation_date': '2024-09-01', 'last_modified_date': '2024-08-30'}, excluded_embed_metadata_keys=['file_name', 'file_type', 'file_size', 'creation_date', 'last_modified_date', 'last_accessed_date'], excluded_llm_metadata_keys=['file_name', 'file_type', 'file_size', 'creation_date', 'last_modified_date', 'last_accessed_date'], relationships={}, text='Money Flow: “Everything Has Changed” — From TINA to TARA  \\nThe dramatic rise in T reasury yields during the past two years has sparked a  \\nseismic shift in the asset allocation trade off. The 10-year US Treasury note currently \\nyields 4.4%, roughly 300 bp above its level two years ago. Although the Treasury yield has retreated from its recent 5% peak, our rates strategists expect at year-end 2024 the 10-year will trade at the still-elevated level of 4.6%. Yield-bearing assets such as\\nthree-month Treasury bills and investment-grade corporate bonds have also become\\nconsiderably more attractive than two-years ago. In contrast, equity valuations on an\\nabsolute and relative basis have actually become less attractive (Exhibit 20 ).\\nConsequently, equities offer the narrowest risk premium relative to 10-year Treasury\\nnotes in more than 20 years.\\nExhibit 20: Yield-bearing assets offer attractive risk-adjusted yields relative to equities  \\n4.4 %5.5 %\\n5.3 %5.9 %\\n0 %1 %2 %3 %4 %5 %6 %7 %8 %9 %10 %\\n10-year\\nUST yield3-month T-Bill\\nyieldS&P 500 NTM\\nearnings yieldIG benchmark\\nYTMDistribution of y ields since 199690th %-ile\\n75th %-ile\\nMedian\\nCurrent\\nSource: Haver, FactSet, Goldman Sachs Global Investment Research\\nUS households directly own 39% of US equities. We forecast  in 2024 they will be \\nnet sellers of stocks for a second consecutive yea r. The new interest rate regime has \\nled to a clear shift in the asset allocation calculus for households: After purchasing $2.3 \\ntrillion in equities from 2020-2022, households have been net sellers of US stocks in \\n2023. In lieu of equities, households have chosen to purchase yield-bearing assets, such \\nas Treasuries and money market funds. Given household balance sheets remain heavily \\ntilted toward equities, we expect households will net sell $200 billion in US stocks in \\n2024 and will continue to rotate toward yield-bearing assets.  \\nSimilarl y, in 2024 pension funds will also continue rotating a way from equities and \\ntoward bonds. The surge in interest rates means US corporate pension funds discount \\ntheir future liabilities at a much higher rate than recent history allow ed. According to \\nMilliman, the largest deﬁned beneﬁt pension plans in the US are currently 104% funded, \\nup from 90% at the start of 2021 when 10-year US Treasury bonds yielded just 0.9%. \\n15 November 2023   17Goldman Sachs', mimetype='text/plain', start_char_idx=None, end_char_idx=None, text_template='{metadata_str}\\n\\n{content}', metadata_template='{key}: {value}', metadata_seperator='\\n'),\n",
              " Document(id_='f96cc9f1-e03a-467a-8736-ee8063ecb128', embedding=None, metadata={'page_label': '18', 'file_name': 'report.pdf', 'file_path': '/content/report.pdf', 'file_type': 'application/pdf', 'file_size': 491913, 'creation_date': '2024-09-01', 'last_modified_date': '2024-08-30'}, excluded_embed_metadata_keys=['file_name', 'file_type', 'file_size', 'creation_date', 'last_modified_date', 'last_accessed_date'], excluded_llm_metadata_keys=['file_name', 'file_type', 'file_size', 'creation_date', 'last_modified_date', 'last_accessed_date'], relationships={}, text='Their improved funded status means pensions are incentivized to rotate away from  \\nequities and toward less risky assets, such as Treasuries. We forecast pension funds will \\nbe net sellers of $250 billion of equities in 2024 as the environment of higher-for-longer rates will drive a sustained rotation away\\n  from stocks.  \\nCorporations and foreign investors will be net buyers of US stocks in 2024. Similar to the last 23 years, we expect corporations will be the largest source of equity demand in 2024. We forecast buybacks will rise by 4% and cash M&A will rebound by 15% in 2024. The combination of buyback and M&A strength will lead corporations to be net purchasers of $550 billion in US stocks in 2024. Our FX strategists expect the dollar will weaken modestly in 2024, which should drive continued net buying of US stocks by foreign investors (+$100 billion).  \\nExhibit 21: US Portfolio Strategy 2024E net equity demand forecasts  \\n$(250) $(250)$(200)$ 100 $ 550 \\n $ (400) $ (200) $ 0 $ 200 $ 400 $ 600 $ 800\\nPension Funds Mutual Funds Househ olds Foreign Investors Corporation s2024E net equity demand forecasts \\nby investor type\\n($ billions)\\nSource: Federal Reserve and Goldman Sachs Global Investment Research\\n15 November 2023   18Goldman Sachs', mimetype='text/plain', start_char_idx=None, end_char_idx=None, text_template='{metadata_str}\\n\\n{content}', metadata_template='{key}: {value}', metadata_seperator='\\n'),\n",
              " Document(id_='f8dd7bd1-9af9-441f-95e2-575d7cb50fc1', embedding=None, metadata={'page_label': '19', 'file_name': 'report.pdf', 'file_path': '/content/report.pdf', 'file_type': 'application/pdf', 'file_size': 491913, 'creation_date': '2024-09-01', 'last_modified_date': '2024-08-30'}, excluded_embed_metadata_keys=['file_name', 'file_type', 'file_size', 'creation_date', 'last_modified_date', 'last_accessed_date'], excluded_llm_metadata_keys=['file_name', 'file_type', 'file_size', 'creation_date', 'last_modified_date', 'last_accessed_date'], relationships={}, text='Concentration: “Seven” — The “Magniﬁcent 7” vs. the remaining 493  \\nThe massive outperformance of mega-cap technology stocks has been a deﬁning  \\nfeature of the equity market in 2023. The so-called “Magniﬁcent 7” (AAPL, MSFT , \\nGOOGL, AMZN, NVDA, META, TSLA) now comprise 29% of S&P 500 market cap and collectively have returned 71% YTD in 2023. The remaining 493 stocks in the index have returned just 6%. As a result, the top 7 stocks have accounted for 76% of the S&P 500 index’s 19% YTD return. \\nHowever, the dominance of mega-cap tech in 2023 largely reﬂected a reversal of \\nmeaningful underperformance in 2022. The Magniﬁcent 7 stocks collectively returned -39% in 2022 compared with a -11% return for the remaining 493 constituents in the\\nS&P 500.\\nThe 30 pp of outperformance of the seven largest stocks at the start of this year vs. the rest of the index YTD ranks as the second largest annual difference since 1970. Notably, during the year, META, NVDA, and TSLA displaced BRK.B, JNJ, and UNH among the 7 largest stocks in the index. This year’s return has only been surpassed by the 35 pp of outperformance during the COVID-affected 2020 calendar year.  While the magnitude of outperformance has been striking, there has been no reliable historical relationship between the trailing and forward 12-month outperformance of the largest seven S&P 500 constituents vs. the remainder of the index. For example, the dramatic 27 pp outperformance of the largest seven stocks in 1999 was followed by 31 pp of underperformance in 2000, while the outperformance in 2020 was followed by another year of outperformance in 2021 . Exhibit 22: Share of largest seven companies’ market cap in S&P  \\n500 is at an all-time high Exhibit 23: The Magniﬁcent 7 have led the index higher in 2023  \\n12%14%16%18%20%22%24%26%28%30%\\n1980 1985 1990 1995 2000 2005 2010 2015 2020 2025 2030Seven largest companies \\nas share of S&P 500 total market cap29%\\n90100110120130140150160170180\\nDec-22 Feb-23 Apr-23 Jun-23 Aug-23 Oct-23 Dec-23Indexed return\\nMETA, AMZN, AAPL,\\nMSFT, GOOGL,\\nTSLA, NVDA\\nRemaining\\n493 companiesS&P 500+71%\\n+19%\\n+6%\\nSource: Compustat, Goldman Sachs Global Investment Research Source: FactSet, Goldman Sachs Global Investment Research\\n15 November 2023   19Goldman Sachs', mimetype='text/plain', start_char_idx=None, end_char_idx=None, text_template='{metadata_str}\\n\\n{content}', metadata_template='{key}: {value}', metadata_seperator='\\n'),\n",
              " Document(id_='c035d9ba-f2cb-466b-9e56-bf149776f215', embedding=None, metadata={'page_label': '20', 'file_name': 'report.pdf', 'file_path': '/content/report.pdf', 'file_type': 'application/pdf', 'file_size': 491913, 'creation_date': '2024-09-01', 'last_modified_date': '2024-08-30'}, excluded_embed_metadata_keys=['file_name', 'file_type', 'file_size', 'creation_date', 'last_modified_date', 'last_accessed_date'], excluded_llm_metadata_keys=['file_name', 'file_type', 'file_size', 'creation_date', 'last_modified_date', 'last_accessed_date'], relationships={}, text='Our baseline forecast suggests that in 2024 the mega-cap tech stocks will \\ncontinue to outperform the remainder of the S&P 500, but the risk/reward proﬁle \\nof this trade is not especially attractive given elevated expectations. All investment \\nforecasts include the disclaimer that “past performance is no guarantee of future \\nresults. ” Nevertheless, the Magniﬁcent 7 stocks have faster expected 2023-2025 CAGR \\nsales growth ( 11% vs. 3%), higher 2023 margins (22% vs. 10%), and a greater \\nre-investment ratio (61% vs. 18%) than the other 493 stocks and trade at a relative \\nvaluation in line with recent averages after accounting for expected growth (0.9x relative \\nPEG ratio). From a macro perspective, our economists’ forecast for stable interest rates \\nimplies fundamentals rather than valuation changes will be the key driver of stock \\nreturns in 2024. \\nThe key determinant of whether the mega-caps will continue to outperform next \\nyear will be how realized sales and earnings growth compare with current \\nexpectations. In 2000, the eventual underperformance of the mega-cap market leaders \\noccurred when those companies failed to meet elevated growth expectations and \\nmultiples collapsed. If the Magniﬁcent 7 repeat this dynamic and disappoint \\nexpectations in 2024, those stocks’ valuations will lik ely “catch dow n” towards the \\nremainder of the index and underperform. Fading enthusiasm in AI is one potential way \\nthose growth expectations could deteriorate, as is an unfavorable outcome in one of the \\nongoing antitrust trials. Conversel y, if the growth environment proves better than \\nexpected for the remainder of the index, the Magniﬁcent 7 will underperform as the \\nother 493 stoc ks “catch up .” From a macro perspective, a substantial decline in interest \\nrates that occurs alongside a resilient economic growth environment would also help \\nspur a “catch up .” Concentrated hedge fund positioning in the Magniﬁcent 7 is another \\nkey risk to those stocks. Ho wever, P/E multiple expansion for the Magniﬁcent 7 stocks \\nis possible if their sales growth expectations accelerate due to faster-than-anticipated \\nadoption of AI .  Exhibit 24: Sharp outperformance of Top 7 vs. S&P 493  Exhibit 25: Little relationship between trailing and forward returns  \\nof Top 7 vs. S&P 493 \\n(40)pp(20)pp0 pp20 pp40 pp60 pp80 pp\\n1970 1975 1980 1985 1990 1995 2000 2005 2010 2015 2020S&P 500 top 7 \\nvs. bottom 493\\nannual relative return\\nYTDMega-cap tech\\n(AAPL, AMZN, \\nGOOGL, META, \\nMSFT, NVDA, TSLA)66\\n30R² = 1%\\n(40)pp(30)pp(20)pp(10)pp0 pp10 pp20 pp30 pp40 pp\\n(40)pp (20)pp 0 pp 20 pp 40 ppTop 7 vs. other 493 relative annual FWD return\\nTop 7 vs. other 493 relative annual TRAILING returnTrailing vs. forward\\nannual relative return\\nS&P 500 top 7 vs.\\nbottom 4932022/2023 YTD\\n2021/20221999/20001998/1999\\n2020/20212019/2020\\nOnly 5 of the 7 largest stocks today were also among the 7 largest stocks at the start of 2023.  \\nSource: Goldman Sachs Global Investment ResearchSource: Goldman Sachs Global Investment Research\\n15 November 2023   20Goldman Sachs', mimetype='text/plain', start_char_idx=None, end_char_idx=None, text_template='{metadata_str}\\n\\n{content}', metadata_template='{key}: {value}', metadata_seperator='\\n'),\n",
              " Document(id_='4b8b5175-d4af-4e3c-a770-0ee24796ba19', embedding=None, metadata={'page_label': '21', 'file_name': 'report.pdf', 'file_path': '/content/report.pdf', 'file_type': 'application/pdf', 'file_size': 491913, 'creation_date': '2024-09-01', 'last_modified_date': '2024-08-30'}, excluded_embed_metadata_keys=['file_name', 'file_type', 'file_size', 'creation_date', 'last_modified_date', 'last_accessed_date'], excluded_llm_metadata_keys=['file_name', 'file_type', 'file_size', 'creation_date', 'last_modified_date', 'last_accessed_date'], relationships={}, text='We do not expect interest rates to be a major driver of Magniﬁcent 7 performance  \\nin 2023. The sensitivity of Magniﬁcent 7 performance to real rates is currently close to \\nzero, but the historical relationship has varied widely over time. Sometimes the market has treated the Magniﬁcent 7 as a long duration asset, with the group underperforming as rates rise. In 2022 the Magniﬁcent 7 underperformed the rest of the market alongside rising interest rates, but many investors overstated the impact of rates given earnings were falling concurrently. At other times, such as when investors were worried about the impact of rising interest rates, the market rewarded the Magniﬁcent 7 for their strong balance sheets. The performance of these stocks during recent months demonstrates this dynamic (see Exhibit 26\\n). \\nFrom a fundamental perspective, in recent years the trajectory of earnings has explained the performance of the Magniﬁcent 7 relative to the rest of the market.  \\nMega-cap tech margins fell by 520 bp in 2022, compared with 60 bp of margin expansion for the remaining stocks, contributing to a 17% decline in EPS vs. 10% growth for the other 493 stocks. The outperformance of the Magniﬁcent 7 this year has coincided with a rebound in margins and earnings that has outpaced the weakness across the rest of the market. Exhibit 26: Sensitivity of Magniﬁcent 7 vs. S&P 493 performance to real rates  \\nregression of daily returns, controlling for equity market pricing of economic growth \\n(20)pp(15)pp(10)pp(5)pp0 pp5 pp10 pp15 pp\\n2018 2019 2020 2021 2022 2023 20246 month rolling beta of\\n\"Magnificent 7\" return vs. S&P 493 to \\n10 year real US Treasury yieldMagnificent 7 \\noutperform when \\nrates rise\\nSource: Goldman Sachs Global Investment Research\\n15 November 2023   21Goldman Sachs', mimetype='text/plain', start_char_idx=None, end_char_idx=None, text_template='{metadata_str}\\n\\n{content}', metadata_template='{key}: {value}', metadata_seperator='\\n'),\n",
              " Document(id_='e634fbde-e3a5-449b-b4d6-cee4cacfb224', embedding=None, metadata={'page_label': '22', 'file_name': 'report.pdf', 'file_path': '/content/report.pdf', 'file_type': 'application/pdf', 'file_size': 491913, 'creation_date': '2024-09-01', 'last_modified_date': '2024-08-30'}, excluded_embed_metadata_keys=['file_name', 'file_type', 'file_size', 'creation_date', 'last_modified_date', 'last_accessed_date'], excluded_llm_metadata_keys=['file_name', 'file_type', 'file_size', 'creation_date', 'last_modified_date', 'last_accessed_date'], relationships={}, text='Consensus expects the Magniﬁcent 7 will continue to deliver faster growth than  \\nthe rest of the index. Analyst estimates show the mega-cap tech companies growing \\nsales at a CAGR of 11% through 2025 compared with just 3% for the rest of the S&P 500. The net margins of the Magniﬁcent 7 are twice the margins of the rest of the\\nindex, and consensus expects this gap will persist through 2025.\\nFrom a valuation perspective, the Magniﬁcent 7 trade at a large P/E premium vs.  \\nthe rest of the market, but relative valuations stand in line with recent averages after accounting for expected growth. The Magniﬁcent 7 trades at a P/E of 29x, 1 .7x the 17x P/E multiple of the median S&P 500 stock. This ratio ranks in the 91\\nst percentile \\nsince 2012. Howeve r, on an earnings-weighted basis, the Magniﬁcent 7 long-term \\nexpected EPS growth is 8 pp faster than the median S&P 500 stock (+17% vs. +9%). Exhibit 27: Magniﬁcent 7 have outperformed alongside an improvement in earnings  \\n80100120140160180200220\\n80100120140160180200220240260280300\\n2018 2019 2020 2021 2022 2023 2024 2025 2026\"Magnificent 7\" vs. \\nS&P 493Indexed \\nrelative return\\n(left axis)\\nRelative consensus 12m \\nforward earnings\\n(right axis)Consensus \\nestimate\\nSource: Goldman Sachs Global Investment Research\\nExhibit 28: Sales growth of Magniﬁcent 7 vs. rest of S&P 500  Exhibit 29: Margins of Magniﬁcent 7 vs. rest of S&P 500  \\n15 %18 %\\n11 %\\n2 %15 %\\n3 %\\n0%5%10%15%20%25%\\n2013-2019 2021-2022 2023-2025EConsensus sales growth CAGR : \\n\"Magnificent 7\" vs. r emainder of S&P 500\\nMagnificent \\n7\\nS&P\\n493\\n0%5%10%15%20%25%\\n2013 2015 2017 2019 2021 2023 2025LTM net margins\\n\"Magnificent 7\"\\nS&P 49319.2%\\'24E\\n20.7%\\'25E\\n21.4% 21.8%\\n9.8%\\'24E\\n10.3%\\'25E\\n10.7%\\nBottom-up \\nconsensus\\nSource: FactSet, Goldman Sachs Global Investment Research Source: FactSet, Goldman Sachs Global Investment Research\\n15 November 2023   22Goldman Sachs', mimetype='text/plain', start_char_idx=None, end_char_idx=None, text_template='{metadata_str}\\n\\n{content}', metadata_template='{key}: {value}', metadata_seperator='\\n'),\n",
              " Document(id_='a929ccce-e855-41e3-bbcf-1cfa28bf2dc8', embedding=None, metadata={'page_label': '23', 'file_name': 'report.pdf', 'file_path': '/content/report.pdf', 'file_type': 'application/pdf', 'file_size': 491913, 'creation_date': '2024-09-01', 'last_modified_date': '2024-08-30'}, excluded_embed_metadata_keys=['file_name', 'file_type', 'file_size', 'creation_date', 'last_modified_date', 'last_accessed_date'], excluded_llm_metadata_keys=['file_name', 'file_type', 'file_size', 'creation_date', 'last_modified_date', 'last_accessed_date'], relationships={}, text='On a PEG ratio basis, the relative valuations are in line with the 10-year average.  \\nElevated hedge fund ownership and a potential inﬂection in AI enthusiasm \\nrepresent two risks to the mega-cap tech stocks. According to GS Prime Services data, at the start of 2023 US single stock hedge fund net exposures to the mega-cap tech stocks ranked in just the 12\\nth percentile vs. history since 2016. Today, positions rank \\nin the 99th percentile since 2016. The recent surge in enthusiasm regarding artiﬁcial \\nintelligence (AI) may also have inﬂected. The emergence of ChatGPT , and AI more broadly, beneﬁted the largest stocks who were either directly or indirectly involved in the development of the technology. Howeve\\n r, the frequency of AI mentions in earnings \\ntranscripts declined during the 3Q earnings season after surging earlier in 2023. Likewise, Google search volumes for AI rose sharply in early 2023 but appear to have stabilized in recent weeks. Exhibit 30: Magniﬁcent 7 vs. rest of S&P 500 NTM P/E  Exhibit 31: Valuations appear less demanding after controlling for  \\ngrowth expectations \\n10x15x20x25x30x35x40x\\n2014 2016 2018 2020 2022 2024 2026S&P 500 \\nforward P/E\\nTotal \\nindex\\n19x\\nS&P 49316x\"Magnificent 7\"\\n29x\\n0.0 x0.5 x1.0 x1.5 x2.0 x2.5 x\\n2012 2014 2016 2018 2020 2022\"Magnificent 7\" vs. median S&P 500 stock\\nRelative PEG ratio\\n(P / NTM EPS / LTG EPS growth)Median = 0.84xMedian = 1.4x1.7x\\n0.87xRelative \\nP/E\\nSource: FactSet, Goldman Sachs Global Investment Research Source: FactSet, Goldman Sachs Global Investment Research\\nExhibit 32: Hedge fund positioning in mega-cap tech is now back at  \\nrecord highs Exhibit 33: Mentions of AI in earnings calls declined in 3Q  \\n56%\\n12%99%\\n0%20%40%60%80%100%\\nJan-2022 Jan-2023 CurrentMega-cap Tech share of total US HF \\nSingle Stock Net Exposure\\n% rank since 2016\\n0 %5 %10 %15 %20 %25 %30 %35 %40 %\\n2012 2014 2016 2018 2020 2022 2024Proportion of S&P 500 companies\\nmentioning \"AI\" \\nduring quarterly earnings calls\\n3Q23\\n29%2Q23\\n35%\\nSource: GS Prime Services, Goldman Sachs Global Investment Research Source: FactSet, Goldman Sachs Global Investment Research\\n15 November 2023   23Goldman Sachs', mimetype='text/plain', start_char_idx=None, end_char_idx=None, text_template='{metadata_str}\\n\\n{content}', metadata_template='{key}: {value}', metadata_seperator='\\n'),\n",
              " Document(id_='4a45f39c-e82c-46c6-a359-a0c60493dc41', embedding=None, metadata={'page_label': '24', 'file_name': 'report.pdf', 'file_path': '/content/report.pdf', 'file_type': 'application/pdf', 'file_size': 491913, 'creation_date': '2024-09-01', 'last_modified_date': '2024-08-30'}, excluded_embed_metadata_keys=['file_name', 'file_type', 'file_size', 'creation_date', 'last_modified_date', 'last_accessed_date'], excluded_llm_metadata_keys=['file_name', 'file_type', 'file_size', 'creation_date', 'last_modified_date', 'last_accessed_date'], relationships={}, text='Disclosure Appendix  \\nReg AC \\nWe, David J. Kostin, Ben Snider, Ryan Hammond, Cormac Conners, Lily Calcagnini, Jenny Ma and Daniel Chavez, hereby certify that all of the views  \\nexpressed in this report accurately reﬂect our personal views, which have not been inﬂuenced by considerations of the ﬁrm’s business or client \\nrelationships. \\nUnless otherwise stated, the individuals listed on the cover page of this report are analysts in Goldman Sachs’ Global Investment R esearc h division. \\nDisclosures  \\nBasket disclosure \\nThe ability to trade the basket(s) in this report will depend upon market conditions, including liquidity and borrow constraints at the time of trade. \\nRegulatory disclosures  \\nDisclosures required by United States laws and regulations \\nSee company-speciﬁc regulatory disclosures above for any of the following disclosures required as to companies referred to in this report: manager or  \\nco-manager in a pending transaction; 1% or other ownership; compensation for certain services; types of client relationships; managed/co-managed \\npublic offerings in prior periods; directorships; for equity securities, market making and/or specialist role. Goldman Sachs trades or ma y trade as a  \\nprincipal in debt securities (or in related derivatives) of issuers discussed in this report.  \\nThe following are additional required disclosures: Ownership and material conﬂicts of interest: Goldman Sachs policy prohibits its analysts, \\nprofessionals reporting to analysts and members of their households from owning securities of any company in the analyst’s area of co v erage.  \\nAnalyst compensation:  Analysts are paid in part based on the proﬁtability of Goldman Sachs, which includes investment banking revenues.  Analyst as ofﬁcer or director: Goldman Sachs policy generally prohibits its analysts, persons reporting to analysts or members of their households from serving as an ofﬁcer, director or advisor of any company in the analyst’s area of coverage.  Non-U.S. Analysts:  Non-U.S. analysts may not be \\nassociated persons of Goldman Sachs & Co. LLC and therefore may not be subject to FINRA Rule 2241 or FINRA Rule 2242 restrictions on communications with subject company, public appearances and trading securities held by the analysts.  \\nAdditional disclosures required under the laws and regulations of jurisdictions other than the United States  \\nThe following disclosures are those required by the jurisdiction indicated, except to the extent already made above pursuant to United States laws and  \\nregulations. Australia: Goldman Sachs Australia Pty Ltd and its afﬁliates are not authorised deposit-taking institutions (as that term is deﬁned in the \\nBanking Act 1959 (Cth)) in Australia and do not provide banking services, nor carry on a banking business, in Australia. This researc h, and an y access to \\nit, is intended only for “wholesale clients” within the meaning of the Australian Corporations Act, unless otherwise agreed by Goldman Sac hs. In  \\nproducing research reports, members of Global Investment Research of Goldman Sachs Australia may attend site visits and other meetings hosted b y  \\nthe companies and other entities which are the subject of its research reports. In some instances the costs of such site visits or meetings ma y be met  \\nin part or in whole by the issuers concerned if Goldman Sachs Australia considers it is appropriate and reasonable in the speciﬁc circumst ances relating  \\nto the site visit or meeting. To the extent that the contents of this document contains any ﬁnancial product advice, it is general advice only and has been prepared by Goldman Sachs without taking into account a client’s objectives, ﬁnancial situation or needs. A client should, bef ore acting on an\\n y \\nsuch advice, consider the appropriateness of the advice having regard to the client’s own objectives, ﬁnancial situation and needs. A cop y of certain \\nGoldman Sachs Australia and New Zealand disclosure of interests and a copy of Goldman Sachs’ Australian Sell-Side Research Independence P olicy  \\nStatement are available at: https://www.goldmansachs.com/disclosures/australia-new-zealand/index.html .  Brazil: Disclosure information in relation to \\nCVM Resolution n. 20 is available at https://www.gs.com/worldwide/brazil/area/gir/index.html . Where applicable, the Brazil-registered analyst primarily \\nresponsible for the content of this research report, as deﬁned in Article 20 of CVM Resolution n. 20, is the ﬁrst author named at the beginning of this report, unless indicated otherwise at the end of the text.  Canada: This information is being provided to you for information purposes only and is not, and under no circumstances should be construed as, an advertisement, offering or solicitation by Goldman Sachs & Co. LLC for purc hasers of\\n  \\nsecurities in Canada to trade in any Canadian security. Goldman Sachs & Co. LLC is not registered as a dealer in any jurisdiction in Canada under applicable Canadian securities laws and generally is not permitted to trade in Canadian securities and may be prohibited from selling cert ain securities\\n  \\nand products in certain jurisdictions in Canada. If you wish to trade in any Canadian securities or other products in Canada please cont act Goldman  \\nSachs Canada Inc., an afﬁliate of The Goldman Sachs Group Inc., or another registered Canadian dealer.  Hong Kong: Further information on the securities of covered companies referred to in this research may be obtained on request from Goldman Sachs (Asia) L.L.C.  India: Further information on the subject company or companies referred to in this research may be obtained from Goldman Sachs (India) Securities Private Limited, R esearc\\n h \\nAnalyst - SEBI Registration Number INH00000 1493, 951 -A, Rational House, Appasaheb Marathe Marg, Prabhadevi, Mumbai 400 025, India, Corporate \\nIdentity Number U74140MH2006FTC160634, Phone +91 22 6616 9000, Fax +91 22 6616 9001 . Goldman Sachs may beneﬁcially own 1% or more of the securities (as such term is deﬁned in clause 2 (h) the Indian Securities Contracts (Regulation) Act, 1956) of the subject compan y or companies\\n  \\nreferred to in this research report. Investment in securities market are subject to market risks. Read all the related documents carefully bef ore  \\ninvesting. Registration granted by SEBI and certiﬁcation from NISM in no way guarantee performance of the intermediary or provide an y assurance of  \\nreturns to investors. Goldman Sachs (India) Securities Private Limited Investor Grievance E-mail: india-client-support@gs.com. Compliance Of ﬁcer: Anil \\nRajput |Tel: + 91 22 6616 9000 | Email: anil.m.rajput@gs.com.  Japan: See below.  Korea: This research, and any access to it, is intended only for “professional investors” within the meaning of the Financial Services and Capital Markets Act, unless otherwise agreed by Goldman Sac hs. F\\n urther \\ninformation on the subject company or companies referred to in this research may be obtained from Goldman Sachs (Asia) L.L.C., Seoul Branc h.  New \\nZealand: Goldman Sachs New Zealand Limited and its afﬁliates are neither “registered banks” nor “deposit takers” (as deﬁned in the Reserv e B ank of \\nNew Zealand Act 1989) in New Zealand. This research, and any access to it, is intended for “wholesale clients” (as deﬁned in the Financial A dvisers Act \\n2008) unless otherwise agreed by Goldman Sachs. A copy of certain Goldman Sachs Australia and New Zealand disclosure of interests is a v ailable at: \\nhttps://www.goldmansachs.com/disclosures/australia-new-zealand/index.html .  Russia: Research reports distributed in the Russian Federation are not \\nadvertising as deﬁned in the Russian legislation, but are information and analysis not having product promotion as their main purpose and do not provide appraisal within the meaning of the Russian legislation on appraisal activity. Research reports do not constitute a personaliz ed in\\n vestment \\nrecommendation as deﬁned in Russian laws and regulations, are not addressed to a speciﬁc client, and are prepared without analyzing the ﬁnancial circumstances, investment proﬁles or risk proﬁles of clients. Goldman Sachs assumes no responsibility for any investment decisions that ma y be t\\n aken \\nby a client or any other person based on this research report.  Singapore: Goldman Sachs (Singapore) Pte. (Company Number: 198602165W), which is regulated by the Monetary Authority of Singapore, accepts legal responsibility for this research, and should be contacted with respect to an y mat\\n ters \\narising from, or in connection with, this research.  T aiwan: This material is for reference only and must not be reprinted without permission. Investors should carefully consider their own investment risk. Investment results are the responsibility of the individual investor.  United Kingdom: Persons who would be categorized as retail clients in the United Kingdom, as such term is deﬁned in the rules of the Financial Conduct Authorit y\\n , should read this \\nresearch in conjunction with prior Goldman Sachs research on the covered companies referred to herein and should refer to the risk w arnings that ha ve \\nbeen sent to them by Goldman Sachs International. A copy of these risks warnings, and a glossary of certain ﬁnancial terms used in this report, are \\n15 November 2023   24Goldman Sachs', mimetype='text/plain', start_char_idx=None, end_char_idx=None, text_template='{metadata_str}\\n\\n{content}', metadata_template='{key}: {value}', metadata_seperator='\\n'),\n",
              " Document(id_='4e77d444-9d92-45f5-b963-ff2259099987', embedding=None, metadata={'page_label': '25', 'file_name': 'report.pdf', 'file_path': '/content/report.pdf', 'file_type': 'application/pdf', 'file_size': 491913, 'creation_date': '2024-09-01', 'last_modified_date': '2024-08-30'}, excluded_embed_metadata_keys=['file_name', 'file_type', 'file_size', 'creation_date', 'last_modified_date', 'last_accessed_date'], excluded_llm_metadata_keys=['file_name', 'file_type', 'file_size', 'creation_date', 'last_modified_date', 'last_accessed_date'], relationships={}, text='available from Goldman Sachs International on request.  \\nEuropean Union and United Kingdom: Disclosure information in relation to Article 6 (2) of the European Commission Delegated Regulation (EU) \\n(2016/958) supplementing Regulation (EU) No 596/2014 of the European Parliament and of the Council (including as that Delegated R egulation is \\nimplemented into United Kingdom domestic law and regulation following the United Kingdom’s departure from the European Union and the European \\nEconomic Area) with regard to regulatory technical standards for the technical arrangements for objective presentation of investment \\nrecommendations or other information recommending or suggesting an investment strategy and for disclosure of particular interests or indications of \\nconﬂicts of interest is available at https://www.gs.com/disclosures/europeanpolicy.html  which states the European Policy for Managing Conﬂicts of \\nInterest in Connection with Investment Research.   \\nJapan: Goldman Sachs Japan Co., Ltd. is a Financial Instrument Dealer registered with the Kanto Financial Bureau under registration number Kinsho \\n69, and a member of Japan Securities Dealers Association, Financial Futures Association of Japan Type II Financial Instruments Firms A ssociation, The \\nInvestment Trusts Association, Japan, and Japan Investment Advisers Association. Sales and purchase of equities are subject to commission pre-determined with clients plus consumption tax. See company-speciﬁc disclosures as to any applicable disclosures required by J\\n apanese stock \\nexchanges, the Japanese Securities Dealers Association or the Japanese Securities Finance Company.   \\nGlobal product; distributing entities  \\nGoldman Sachs Global Investment Research produces and distributes research products for clients of Goldman Sachs on a global basis. Analysts based  \\nin Goldman Sachs ofﬁces around the world produce research on industries and companies, and research on macroeconomics, currencies, commodities \\nand portfolio strategy. This research is disseminated in Australia by Goldman Sachs Australia Pty Ltd (ABN 21 006 797 897); in Brazil b y Goldman Sachs \\ndo Brasil Corretora de Títulos e Valores Mobiliários S.A.; Public Communication Channel Goldman Sachs Brazil: 0800 727 5764 and / or contatogoldmanbrasil@gs.com. Available Weekdays (except holidays), from 9am to 6pm. Canal de Comunicação com o Público Goldman Sac\\n hs Brasil: \\n0800 727 5764 e/ou contatogoldmanbrasil@gs.com. Horário de funcionamento: segunda-feira à sexta-feira (exceto feriados), das 9h às 1 8h; in Canada \\nby Goldman Sachs & Co. LLC; in Hong Kong by Goldman Sachs (Asia) L.L.C.; in India by Goldman Sachs (India) Securities Private Ltd.; in J apan by \\nGoldman Sachs Japan Co., Ltd.; in the Republic of Korea by Goldman Sachs (Asia) L.L.C., Seoul Branch; in New Zealand by Goldman Sac hs New \\nZealand Limited; in Russia by OOO Goldman Sachs; in Singapore by Goldman Sachs (Singapore) Pte. (Company Number: 198602165W); and in the \\nUnited States of America by Goldman Sachs & Co. LLC. Goldman Sachs International has approved this research in connection with its distribution in \\nthe United Kingdom.  \\nGoldman Sachs International (“GSI”), authorised by the Prudential Regulation Authority (“PRA ”) and regulated by the Financial Conduct A uthority \\n(“FCA ”) and the PRA, has approved this research in connection with its distribution in the United Kingdom. \\nEuropean Economic Area: GSI, authorised by the PRA and regulated by the FCA and the PRA, disseminates research in the following jurisdictions \\nwithin the European Economic Area: the Grand Duchy of Luxembourg, Italy, the Kingdom of Belgium, the Kingdom of Denmark, the Kingdom of Norway, the Republic of Finland and the Republic of Ireland; GSI - Succursale de Paris (Paris branch) which is authorised by the F\\n rench Autorité de \\ncontrôle prudentiel et de resolution (“ ACPR”) and regulated by the Autorité de contrôle prudentiel et de resolution and the Autorité des marc hes \\nﬁnanciers (“ AMF”) disseminates research in France; GSI - Sucursal en España (Madrid branch) authorized in Spain by the Comisión Nacional del Mercado de Valores disseminates research in the Kingdom of Spain; GSI - Sweden Bankﬁlial (Stockholm branch) is authorized by the SFS\\n A as a “third \\ncountry branch” in accordance with Chapter 4, Section 4 of the Swedish Securities and Market Act (Sw. lag (2007:528) om värdepappersmarknaden) disseminates research in the Kingdom of Sweden; Goldman Sachs Bank Europe SE (“GSBE”) is a credit institution incorporated in German\\n y and, within \\nthe Single Supervisory Mechanism, subject to direct prudential supervision by the European Central Bank and in other respects super vised by German \\nFederal Financial Supervisory Authority (Bundesanstalt für Finanzdienstleistungsaufsicht, BaFin) and Deutsche Bundesbank and disseminates researc h \\nin the Federal Republic of Germany and those jurisdictions within the European Economic Area where GSI is not authorised to disseminate researc h \\nand additionally, GSBE, Copenhagen Branch ﬁlial af GSBE, Tyskland, supervised by the Danish Financial Authority disseminates researc h in the Kingdom \\nof Denmark; GSBE - Sucursal en España (Madrid branch) subject (to a limited extent) to local supervision by the Bank of Spain disseminates researc h in \\nthe Kingdom of Spain;  GSBE - Succursale Italia (Milan branch) to the relevant applicable extent, subject to local supervision b y the Bank of Italy (Banca \\nd’Italia) and the Italian Companies and Exchange Commission (Commissione Nazionale per le Società e la Borsa “Consob”) disseminates researc h in \\nItaly; GSBE - Succursale de Paris (Paris branch), supervised by the AMF and by the ACPR disseminates research in France; and GSBE - S weden \\nBankﬁlial (Stockholm branch), to a limited extent, subject to local supervision by the Swedish Financial Supervisory Authority (Finansinpektionen) \\ndisseminates research in the Kingdom of Sweden.  \\nGeneral disclosures  \\nThis research is for our clients only. Other than disclosures relating to Goldman Sachs, this research is based on current public information that we  \\nconsider reliable, but we do not represent it is accurate or complete, and it should not be relied on as such. The information, opinions, estimates and \\nforecasts contained herein are as of the date hereof and are subject to change without prior notiﬁcation. We seek to update our researc h as \\nappropriate, but various regulations may prevent us from doing so. Other than certain industry reports published on a periodic basis, the large majorit y \\nof reports are published at irregular intervals as appropriate in the analyst’s judgment. \\nGoldman Sachs conducts a global full-service, integrated investment banking, investment management, and brokerage business. We ha ve investment \\nbanking and other business relationships with a substantial percentage of the companies covered by Global Investment Research. Goldman Sac hs & \\nCo. LLC, the United States broker dealer, is a member of SIPC (https://www.sipc.org ).  \\nOur salespeople, traders, and other professionals may provide oral or written market commentary or trading strategies to our clients and principal \\ntrading desks that reﬂect opinions that are contrary to the opinions expressed in this research. Our asset management area, principal trading desks and \\ninvesting businesses may make investment decisions that are inconsistent with the recommendations or views expressed in this researc h. \\nWe and our afﬁliates, ofﬁcers, directors, and employees will from time to time have long or short positions in, act as principal in, and bu y or sell, the \\nsecurities or derivatives, if any, referred to in this research, unless otherwise prohibited by regulation or Goldman Sachs policy .  \\nThe views attributed to third party presenters at Goldman Sachs arranged conferences, including individuals from other parts of Goldman Sac hs, do not \\nnecessarily reﬂect those of Global Investment Research and are not an ofﬁcial view of Goldman Sachs. \\nAny third party referenced herein, including any salespeople, traders and other professionals or members of their household, may ha ve positions in the \\nproducts mentioned that are inconsistent with the views expressed by analysts named in this report. \\nThis research is focused on investment themes across markets, industries and sectors. It does not attempt to distinguish between the prospects or \\nperformance of, or provide analysis of, individual companies within any industry or sector we describe. \\nAny trading recommendation in this research relating to an equity or credit security or securities within an industry or sector is reﬂ ective of the \\ninvestment theme being discussed and is not a recommendation of any such security in isolation. \\nThis research is not an offer to sell or the solicitation of an offer to buy any security in any jurisdiction where such an offer or solicit ation would be \\nillegal. It does not constitute a personal recommendation or take into account the particular investment objectives, ﬁnancial sit uations, or needs of \\n15 November 2023   25Goldman Sachs', mimetype='text/plain', start_char_idx=None, end_char_idx=None, text_template='{metadata_str}\\n\\n{content}', metadata_template='{key}: {value}', metadata_seperator='\\n'),\n",
              " Document(id_='4cf8cae6-7afb-42e5-9e5e-bcca48ed4c16', embedding=None, metadata={'page_label': '26', 'file_name': 'report.pdf', 'file_path': '/content/report.pdf', 'file_type': 'application/pdf', 'file_size': 491913, 'creation_date': '2024-09-01', 'last_modified_date': '2024-08-30'}, excluded_embed_metadata_keys=['file_name', 'file_type', 'file_size', 'creation_date', 'last_modified_date', 'last_accessed_date'], excluded_llm_metadata_keys=['file_name', 'file_type', 'file_size', 'creation_date', 'last_modified_date', 'last_accessed_date'], relationships={}, text='individual clients. Clients should consider whether any advice or recommendation in this research is suitable for their particular circumstances and, if  \\nappropriate, seek professional advice, including tax advice. The price and value of investments referred to in this research and the income from them \\nmay ﬂuctuate. Past performance is not a guide to future performance, future returns are not guaranteed, and a loss of original capit al may occur. \\nFluctuations in exchange rates could have adverse effects on the value or price of, or income derived from, certain investments.  \\nCertain transactions, including those involving futures, options, and other derivatives, give rise to substantial risk and are not suit able for all investors. \\nInvestors should review current options and futures disclosure documents which are available from Goldman Sachs sales representativ es or at \\nhttps://www.theocc.com/about/publications/character-risks.jsp  and \\nhttps://www.ﬁadocumentation.org/ﬁa/regulatory-disclosures_1/ﬁa-uniform-futures-and-options-on-futures-risk-disclosures-booklet-pdf-v ersion-2018 . \\nTransaction costs may be signiﬁcant in option strategies calling for multiple purchase and sales of options such as spreads. Supporting document ation \\nwill be supplied upon request.  \\nDiffering Levels of Service provided by Global Investment Research: The level and types of services provided to you by Goldman Sachs Global \\nInvestment Research may vary as compared to that provided to internal and other external clients of GS, depending on various factors including y our \\nindividual preferences as to the frequency and manner of receiving communication, your risk proﬁle and investment focus and perspectiv e (e.g., \\nmarketwide, sector speciﬁc, long term, short term), the size and scope of your overall client relationship with GS, and legal and regulator y constraints.  \\nAs an example, certain clients may request to receive notiﬁcations when research on speciﬁc securities is published, and certain clients ma y request \\nthat speciﬁc data underlying analysts’ fundamental analysis available on our internal client websites be delivered to them electronically through dat a \\nfeeds or otherwise. No change to an analyst’s fundamental research views (e.g., ratings, price targets, or material changes to earnings estimates f or \\nequity securities), will be communicated to any client prior to inclusion of such information in a research report broadly disseminated through electronic publication to our internal client websites or through other means, as necessary, to all clients who are entitled to receive suc\\n h reports. \\nAll research reports are disseminated and available to all clients simultaneously through electronic publication to our internal client w ebsites. Not all \\nresearch content is redistributed to our clients or available to third-party aggregators, nor is Goldman Sachs responsible for the redistribution of our \\nresearch by third party aggregators. For research, models or other data related to one or more securities, markets or asset classes (including related \\nservices) that may be available to you, please contact your GS representative or go to https://research.gs.com . \\nDisclosure information is also available at https://www.gs.com/research/hedge.html  or from Research Compliance, 200 West Street, New York, NY \\n10282. \\n© 2023 Goldman Sachs. \\nNo part of this material may be (i) copied, photocopied or duplicated in any form by any means or (ii) redistributed without the prior written \\nconsent of The Goldman Sachs Group, Inc.  \\n15 November 2023   26Goldman Sachs', mimetype='text/plain', start_char_idx=None, end_char_idx=None, text_template='{metadata_str}\\n\\n{content}', metadata_template='{key}: {value}', metadata_seperator='\\n')]"
            ]
          },
          "metadata": {},
          "execution_count": 11
        }
      ]
    },
    {
      "cell_type": "code",
      "source": [
        "# prompt: how do i pull out and list the Document and page numbers and 1st 100 characters for that documents object?\n",
        "\n",
        "for doc in documents:\n",
        "  print(f\"Document: {doc.metadata['file_name']}\")\n",
        "  print(f\"Page Number: {doc.metadata['page_label']}\")\n",
        "  print(f\"First 100 characters: {doc.text[:100]}\")\n",
        "  print(\"-\" * 20)\n"
      ],
      "metadata": {
        "colab": {
          "base_uri": "https://localhost:8080/"
        },
        "id": "M6t9-c-JG3pA",
        "outputId": "973849ea-630a-4688-fad8-5028288736b8"
      },
      "execution_count": null,
      "outputs": [
        {
          "output_type": "stream",
          "name": "stdout",
          "text": [
            "Document: report.pdf\n",
            "Page Number: 1\n",
            "First 100 characters: We forecast the S&P 500 index will end 2024 at 4700, representing a 12-month \n",
            "price gain of 5% and a\n",
            "--------------------\n",
            "Document: report.pdf\n",
            "Page Number: 2\n",
            "First 100 characters: PM Summary: “Long Story Short” — S&P 500 will end 2024 at 4700 (+5%)  \n",
            "The launch of singe r-songwri\n",
            "--------------------\n",
            "Document: report.pdf\n",
            "Page Number: 3\n",
            "First 100 characters: We remain constructive on US equities, but the current starting point will limit the \n",
            "potential appr\n",
            "--------------------\n",
            "Document: report.pdf\n",
            "Page Number: 4\n",
            "First 100 characters: Third, our top-down valuation model suggests that at a forward P/E multiple of  \n",
            "19x, the aggregate \n",
            "--------------------\n",
            "Document: report.pdf\n",
            "Page Number: 5\n",
            "First 100 characters: We were right, but wrong. \n",
            "Published exactly one year ago, our 2023 US Equity Outlook was subtitled \n",
            "--------------------\n",
            "Document: report.pdf\n",
            "Page Number: 6\n",
            "First 100 characters: Although we forecast a below-average annual return at the S&P 500 index level,  \n",
            "more attractive inv\n",
            "--------------------\n",
            "Document: report.pdf\n",
            "Page Number: 7\n",
            "First 100 characters: Despite our optimistic baseline market outlook, portfolio managers will need to  \n",
            "stay invested thro\n",
            "--------------------\n",
            "Document: report.pdf\n",
            "Page Number: 8\n",
            "First 100 characters: Earnings: “Out of the Woods” — 5% growth in both 2024 and 2025  \n",
            "Following 1% proﬁt growth in 2023 (\n",
            "--------------------\n",
            "Document: report.pdf\n",
            "Page Number: 9\n",
            "First 100 characters: while consensus forecasts expansion of 150 bp (Exhibit 7 ). Although operating leverage \n",
            "should supp\n",
            "--------------------\n",
            "Document: report.pdf\n",
            "Page Number: 10\n",
            "First 100 characters: Valuation: “Champagne Problems” — S&P 500 trades at a P/E of 18x  \n",
            "Restrictive monetary policy for m\n",
            "--------------------\n",
            "Document: report.pdf\n",
            "Page Number: 11\n",
            "First 100 characters: T o account for the outsized impact of the largest tech stocks on the aggregate P/E  \n",
            "multiple, we d\n",
            "--------------------\n",
            "Document: report.pdf\n",
            "Page Number: 12\n",
            "First 100 characters: a function of real yields, the distance of forward inﬂation from 2%, the tightness of the  \n",
            "labor ma\n",
            "--------------------\n",
            "Document: report.pdf\n",
            "Page Number: 13\n",
            "First 100 characters: Exhibit 14: Difference between aggregate and equal-weight S&P 500 EPS growth is much smaller than  \n",
            "\n",
            "--------------------\n",
            "Document: report.pdf\n",
            "Page Number: 14\n",
            "First 100 characters: Alternative return scenarios: “Blank Space” — Upside and downside  \n",
            "Our baseline expectation that th\n",
            "--------------------\n",
            "Document: report.pdf\n",
            "Page Number: 15\n",
            "First 100 characters: Our relatively benign macro forecast is currently reﬂected in the equity market.  \n",
            "Accordingly, we b\n",
            "--------------------\n",
            "Document: report.pdf\n",
            "Page Number: 16\n",
            "First 100 characters: closely mirror the historical playbook at the end of Fed hiking cycles, with valuations  \n",
            "expanding \n",
            "--------------------\n",
            "Document: report.pdf\n",
            "Page Number: 17\n",
            "First 100 characters: Money Flow: “Everything Has Changed” — From TINA to TARA  \n",
            "The dramatic rise in T reasury yields dur\n",
            "--------------------\n",
            "Document: report.pdf\n",
            "Page Number: 18\n",
            "First 100 characters: Their improved funded status means pensions are incentivized to rotate away from  \n",
            "equities and towa\n",
            "--------------------\n",
            "Document: report.pdf\n",
            "Page Number: 19\n",
            "First 100 characters: Concentration: “Seven” — The “Magniﬁcent 7” vs. the remaining 493  \n",
            "The massive outperformance of me\n",
            "--------------------\n",
            "Document: report.pdf\n",
            "Page Number: 20\n",
            "First 100 characters: Our baseline forecast suggests that in 2024 the mega-cap tech stocks will \n",
            "continue to outperform th\n",
            "--------------------\n",
            "Document: report.pdf\n",
            "Page Number: 21\n",
            "First 100 characters: We do not expect interest rates to be a major driver of Magniﬁcent 7 performance  \n",
            "in 2023. The sens\n",
            "--------------------\n",
            "Document: report.pdf\n",
            "Page Number: 22\n",
            "First 100 characters: Consensus expects the Magniﬁcent 7 will continue to deliver faster growth than  \n",
            "the rest of the ind\n",
            "--------------------\n",
            "Document: report.pdf\n",
            "Page Number: 23\n",
            "First 100 characters: On a PEG ratio basis, the relative valuations are in line with the 10-year average.  \n",
            "Elevated hedge\n",
            "--------------------\n",
            "Document: report.pdf\n",
            "Page Number: 24\n",
            "First 100 characters: Disclosure Appendix  \n",
            "Reg AC \n",
            "We, David J. Kostin, Ben Snider, Ryan Hammond, Cormac Conners, Lily Ca\n",
            "--------------------\n",
            "Document: report.pdf\n",
            "Page Number: 25\n",
            "First 100 characters: available from Goldman Sachs International on request.  \n",
            "European Union and United Kingdom: Disclosu\n",
            "--------------------\n",
            "Document: report.pdf\n",
            "Page Number: 26\n",
            "First 100 characters: individual clients. Clients should consider whether any advice or recommendation in this research is\n",
            "--------------------\n"
          ]
        }
      ]
    },
    {
      "cell_type": "code",
      "source": [
        "# just me playing around with other questions\n",
        "# note in the past example, we didn't ask about GDP growth.. it figure out on it's own it's important to use this\n",
        "response = query_engine.query(\n",
        "    \"How will artificial intelligence impact the outlook for the US economy?\"\n",
        ")\n",
        "\n",
        "print(response)"
      ],
      "metadata": {
        "colab": {
          "base_uri": "https://localhost:8080/"
        },
        "id": "lsp3OFxERqqz",
        "outputId": "cf790e19-d3ac-47e0-8ebd-88cc9fa12c23"
      },
      "execution_count": null,
      "outputs": [
        {
          "output_type": "stream",
          "name": "stdout",
          "text": [
            "Generated 2 sub questions.\n",
            "\u001b[1;3;38;2;237;90;200m[documents] Q: What are the current trends in artificial intelligence adoption in the US economy?\n",
            "\u001b[0m\u001b[1;3;38;2;90;149;237m[documents] Q: How has artificial intelligence influenced job creation and automation in the US economy?\n",
            "\u001b[0m\u001b[1;3;38;2;90;149;237m[documents] A: Artificial intelligence has had an impact on both job creation and automation in the US economy. Some companies have benefited in the short term from the demand for computing power to run AI large language models, which has led to job creation in certain areas. Additionally, AI adoption is expected to enhance labor productivity in the long term, potentially leading to automation of certain tasks and processes. This could result in increased efficiency and changes in the nature of work in the future.\n",
            "\u001b[0m\u001b[1;3;38;2;237;90;200m[documents] A: Artificial intelligence adoption in the US economy has shown some recent trends. There has been a surge in enthusiasm regarding AI, with mentions of AI in earnings calls declining during the 3Q earnings season after an earlier surge in 2023. Google search volumes for AI rose sharply in early 2023 but have since stabilized in recent weeks. Generative artificial intelligence (AI) is seen as a potential driver of corporate earnings upside, with certain companies benefiting from the demand for computing power to run AI large language models. However, the impact on profitability next year is expected to be limited for most companies, with only minimal margin expansion anticipated in 2024 due to various factors like input cost growth, rising interest expense, and higher effective tax rates.\n",
            "\u001b[0m**********\n",
            "Trace: query\n",
            "    |_query -> 5.728862 seconds\n",
            "      |_llm -> 1.235552 seconds\n",
            "      |_sub_question -> 2.554713 seconds\n",
            "        |_query -> 2.55388 seconds\n",
            "          |_retrieve -> 0.246893 seconds\n",
            "            |_embedding -> 0.23978 seconds\n",
            "          |_synthesize -> 2.306026 seconds\n",
            "            |_templating -> 2.7e-05 seconds\n",
            "            |_llm -> 2.298629 seconds\n",
            "      |_sub_question -> 1.998812 seconds\n",
            "        |_query -> 1.997412 seconds\n",
            "          |_retrieve -> 0.171544 seconds\n",
            "            |_embedding -> 0.164083 seconds\n",
            "          |_synthesize -> 1.824846 seconds\n",
            "            |_templating -> 3.5e-05 seconds\n",
            "            |_llm -> 1.815335 seconds\n",
            "      |_synthesize -> 1.936065 seconds\n",
            "        |_templating -> 2.7e-05 seconds\n",
            "        |_llm -> 1.93148 seconds\n",
            "**********\n",
            "Artificial intelligence is expected to have a significant impact on the outlook for the US economy. It has the potential to drive corporate earnings upside through the adoption of generative AI and the demand for computing power to run AI large language models. While there may be limited margin expansion anticipated for most companies in 2024 due to factors like input cost growth and rising interest expense, AI adoption is likely to enhance labor productivity in the long term. This could lead to automation of certain tasks and processes, ultimately influencing the efficiency and nature of work in the future.\n"
          ]
        }
      ]
    },
    {
      "cell_type": "markdown",
      "source": [
        "# Calling OpenAI AssistantAPI from llama index (Code interpreter)"
      ],
      "metadata": {
        "id": "6H6aP4WUSp21"
      }
    },
    {
      "cell_type": "code",
      "source": [
        "# gives model permssion to run the python code on the server\n",
        "# not using any document for this.. just the model and assistant api alone\n",
        "# assume it's using the gpt4 turbo model.\n",
        "# darn getting an error on file_ids in may 2024\n",
        "\n",
        "from llama_index.agent.openai import OpenAIAssistantAgent\n",
        "\n",
        "# these are tools specific to openai assistant api\n",
        "\n",
        "agent = OpenAIAssistantAgent.from_new(\n",
        "    name=\"Python agent\",\n",
        "    openai_tools=[{\"type\": \"code_interpreter\"}],\n",
        "    instructions=\"You are an expert at writing python code to solve problems.\",\n",
        "    verbose=True\n",
        ")\n",
        "\n",
        "response = agent.chat(\"Calculate 2+2 and show the python code\")"
      ],
      "metadata": {
        "colab": {
          "base_uri": "https://localhost:8080/",
          "height": 368
        },
        "id": "EXhmIAX2VKsN",
        "outputId": "74e04429-642b-47fa-cacc-fa4c209f3941"
      },
      "execution_count": null,
      "outputs": [
        {
          "output_type": "error",
          "ename": "TypeError",
          "evalue": "Assistants.create() got an unexpected keyword argument 'file_ids'",
          "traceback": [
            "\u001b[0;31m---------------------------------------------------------------------------\u001b[0m",
            "\u001b[0;31mTypeError\u001b[0m                                 Traceback (most recent call last)",
            "\u001b[0;32m<ipython-input-30-a66ffc9a5bea>\u001b[0m in \u001b[0;36m<cell line: 8>\u001b[0;34m()\u001b[0m\n\u001b[1;32m      6\u001b[0m \u001b[0;31m# these are tools specific to openai assistant api\u001b[0m\u001b[0;34m\u001b[0m\u001b[0;34m\u001b[0m\u001b[0m\n\u001b[1;32m      7\u001b[0m \u001b[0;34m\u001b[0m\u001b[0m\n\u001b[0;32m----> 8\u001b[0;31m agent = OpenAIAssistantAgent.from_new(\n\u001b[0m\u001b[1;32m      9\u001b[0m     \u001b[0mname\u001b[0m\u001b[0;34m=\u001b[0m\u001b[0;34m\"Python agent\"\u001b[0m\u001b[0;34m,\u001b[0m\u001b[0;34m\u001b[0m\u001b[0;34m\u001b[0m\u001b[0m\n\u001b[1;32m     10\u001b[0m     \u001b[0mopenai_tools\u001b[0m\u001b[0;34m=\u001b[0m\u001b[0;34m[\u001b[0m\u001b[0;34m{\u001b[0m\u001b[0;34m\"type\"\u001b[0m\u001b[0;34m:\u001b[0m \u001b[0;34m\"code_interpreter\"\u001b[0m\u001b[0;34m}\u001b[0m\u001b[0;34m]\u001b[0m\u001b[0;34m,\u001b[0m\u001b[0;34m\u001b[0m\u001b[0;34m\u001b[0m\u001b[0m\n",
            "\u001b[0;32m/usr/local/lib/python3.10/dist-packages/llama_index/agent/openai/openai_assistant_agent.py\u001b[0m in \u001b[0;36mfrom_new\u001b[0;34m(cls, name, instructions, tools, openai_tools, thread_id, model, instructions_prefix, run_retrieve_sleep_time, files, callback_manager, verbose, file_ids, api_key)\u001b[0m\n\u001b[1;32m    228\u001b[0m         \u001b[0;31m# TODO: openai's typing is a bit sus\u001b[0m\u001b[0;34m\u001b[0m\u001b[0;34m\u001b[0m\u001b[0m\n\u001b[1;32m    229\u001b[0m         \u001b[0mall_openai_tools\u001b[0m \u001b[0;34m=\u001b[0m \u001b[0mcast\u001b[0m\u001b[0;34m(\u001b[0m\u001b[0mList\u001b[0m\u001b[0;34m[\u001b[0m\u001b[0mAny\u001b[0m\u001b[0;34m]\u001b[0m\u001b[0;34m,\u001b[0m \u001b[0mall_openai_tools\u001b[0m\u001b[0;34m)\u001b[0m\u001b[0;34m\u001b[0m\u001b[0;34m\u001b[0m\u001b[0m\n\u001b[0;32m--> 230\u001b[0;31m         assistant = client.beta.assistants.create(\n\u001b[0m\u001b[1;32m    231\u001b[0m             \u001b[0mname\u001b[0m\u001b[0;34m=\u001b[0m\u001b[0mname\u001b[0m\u001b[0;34m,\u001b[0m\u001b[0;34m\u001b[0m\u001b[0;34m\u001b[0m\u001b[0m\n\u001b[1;32m    232\u001b[0m             \u001b[0minstructions\u001b[0m\u001b[0;34m=\u001b[0m\u001b[0minstructions\u001b[0m\u001b[0;34m,\u001b[0m\u001b[0;34m\u001b[0m\u001b[0;34m\u001b[0m\u001b[0m\n",
            "\u001b[0;31mTypeError\u001b[0m: Assistants.create() got an unexpected keyword argument 'file_ids'"
          ]
        }
      ]
    },
    {
      "cell_type": "code",
      "source": [
        "# gives model permssion to run the python code on the server\n",
        "# not using any document for this.. just the model and assistant api alone\n",
        "# assume it's using the gpt4 turbo model.\n",
        "from llama_index.agent.openai import OpenAIAssistantAgent\n",
        "\n",
        "# these are tools specific to openai assistant api\n",
        "\n",
        "agent = OpenAIAssistantAgent.from_new(\n",
        "    name=\"Python agent\",\n",
        "    openai_tools=[{\"type\": \"code_interpreter\"}],\n",
        "    instructions=\"You are an expert at writing python code to solve problems.\",\n",
        "    verbose=True\n",
        ")\n",
        "\n",
        "response = agent.chat(\n",
        "    \"\"\"Generate code to answer the following question:\n",
        "    How much is the us population likely to grow to by 2030?\n",
        "    To calculte the year, call python code to figure out what year it is.\n",
        "    Return and answer and the code used.\"\"\"\n",
        ")"
      ],
      "metadata": {
        "id": "173K-wLCSo8S",
        "colab": {
          "base_uri": "https://localhost:8080/",
          "height": 368
        },
        "outputId": "127dfdfe-c01a-4015-ba41-222e732877c1"
      },
      "execution_count": null,
      "outputs": [
        {
          "output_type": "error",
          "ename": "TypeError",
          "evalue": "Assistants.create() got an unexpected keyword argument 'file_ids'",
          "traceback": [
            "\u001b[0;31m---------------------------------------------------------------------------\u001b[0m",
            "\u001b[0;31mTypeError\u001b[0m                                 Traceback (most recent call last)",
            "\u001b[0;32m<ipython-input-29-34b6ad5337db>\u001b[0m in \u001b[0;36m<cell line: 8>\u001b[0;34m()\u001b[0m\n\u001b[1;32m      6\u001b[0m \u001b[0;31m# these are tools specific to openai assistant api\u001b[0m\u001b[0;34m\u001b[0m\u001b[0;34m\u001b[0m\u001b[0m\n\u001b[1;32m      7\u001b[0m \u001b[0;34m\u001b[0m\u001b[0m\n\u001b[0;32m----> 8\u001b[0;31m agent = OpenAIAssistantAgent.from_new(\n\u001b[0m\u001b[1;32m      9\u001b[0m     \u001b[0mname\u001b[0m\u001b[0;34m=\u001b[0m\u001b[0;34m\"Python agent\"\u001b[0m\u001b[0;34m,\u001b[0m\u001b[0;34m\u001b[0m\u001b[0;34m\u001b[0m\u001b[0m\n\u001b[1;32m     10\u001b[0m     \u001b[0mopenai_tools\u001b[0m\u001b[0;34m=\u001b[0m\u001b[0;34m[\u001b[0m\u001b[0;34m{\u001b[0m\u001b[0;34m\"type\"\u001b[0m\u001b[0;34m:\u001b[0m \u001b[0;34m\"code_interpreter\"\u001b[0m\u001b[0;34m}\u001b[0m\u001b[0;34m]\u001b[0m\u001b[0;34m,\u001b[0m\u001b[0;34m\u001b[0m\u001b[0;34m\u001b[0m\u001b[0m\n",
            "\u001b[0;32m/usr/local/lib/python3.10/dist-packages/llama_index/agent/openai/openai_assistant_agent.py\u001b[0m in \u001b[0;36mfrom_new\u001b[0;34m(cls, name, instructions, tools, openai_tools, thread_id, model, instructions_prefix, run_retrieve_sleep_time, files, callback_manager, verbose, file_ids, api_key)\u001b[0m\n\u001b[1;32m    228\u001b[0m         \u001b[0;31m# TODO: openai's typing is a bit sus\u001b[0m\u001b[0;34m\u001b[0m\u001b[0;34m\u001b[0m\u001b[0m\n\u001b[1;32m    229\u001b[0m         \u001b[0mall_openai_tools\u001b[0m \u001b[0;34m=\u001b[0m \u001b[0mcast\u001b[0m\u001b[0;34m(\u001b[0m\u001b[0mList\u001b[0m\u001b[0;34m[\u001b[0m\u001b[0mAny\u001b[0m\u001b[0;34m]\u001b[0m\u001b[0;34m,\u001b[0m \u001b[0mall_openai_tools\u001b[0m\u001b[0;34m)\u001b[0m\u001b[0;34m\u001b[0m\u001b[0;34m\u001b[0m\u001b[0m\n\u001b[0;32m--> 230\u001b[0;31m         assistant = client.beta.assistants.create(\n\u001b[0m\u001b[1;32m    231\u001b[0m             \u001b[0mname\u001b[0m\u001b[0;34m=\u001b[0m\u001b[0mname\u001b[0m\u001b[0;34m,\u001b[0m\u001b[0;34m\u001b[0m\u001b[0;34m\u001b[0m\u001b[0m\n\u001b[1;32m    232\u001b[0m             \u001b[0minstructions\u001b[0m\u001b[0;34m=\u001b[0m\u001b[0minstructions\u001b[0m\u001b[0;34m,\u001b[0m\u001b[0;34m\u001b[0m\u001b[0;34m\u001b[0m\u001b[0m\n",
            "\u001b[0;31mTypeError\u001b[0m: Assistants.create() got an unexpected keyword argument 'file_ids'"
          ]
        }
      ]
    },
    {
      "cell_type": "code",
      "source": [
        "print(str(response))"
      ],
      "metadata": {
        "colab": {
          "base_uri": "https://localhost:8080/"
        },
        "id": "PjnQJnqVeiNl",
        "outputId": "15c156ae-4045-4dea-8116-433157fa027f"
      },
      "execution_count": null,
      "outputs": [
        {
          "output_type": "stream",
          "name": "stdout",
          "text": [
            "Based on the hypothetical figures provided, the estimated US population by the year 2030 is approximately 348.6 million people.\n",
            "\n",
            "Here is the Python code used to perform the estimation:\n",
            "\n",
            "```python\n",
            "# Given data\n",
            "current_population = 332_000_000  # Current US population estimate in 2023\n",
            "annual_growth_rate = 0.007  # Average annual growth rate (in decimal form)\n",
            "target_year = 2030\n",
            "current_year = 2023\n",
            "years_into_future = target_year - current_year\n",
            "\n",
            "# Calculate the future population\n",
            "future_population = current_population * ((1 + annual_growth_rate) ** years_into_future)\n",
            "```\n",
            "\n",
            "This calculation is a simplified model that assumes a constant growth rate and does not account for other demographic factors (like immigration, emigration, birth rates, and death rates) that could influence the actual future population. For a more precise prediction, a more detailed demographic model would need to be used, and updated population statistics and growth rates should be obtained from a reliable source such as the US Census Bureau.\n"
          ]
        }
      ]
    },
    {
      "cell_type": "code",
      "source": [
        "response = agent.chat(\"Calculate 2+2 and show the python code\")\n",
        "print(str(response))"
      ],
      "metadata": {
        "colab": {
          "base_uri": "https://localhost:8080/"
        },
        "id": "QPpFVsJbqesD",
        "outputId": "0af0265e-179d-490a-ba5e-319275aa813b"
      },
      "execution_count": null,
      "outputs": [
        {
          "output_type": "stream",
          "name": "stdout",
          "text": [
            "The result of calculating 2 + 2 is 4.\n",
            "\n",
            "Here is the Python code used to perform the calculation:\n",
            "\n",
            "```python\n",
            "# Python code to calculate 2+2\n",
            "result = 2 + 2\n",
            "```\n"
          ]
        }
      ]
    },
    {
      "cell_type": "code",
      "source": [
        "response = agent.chat(\n",
        "    \"\"\"Generate code to answer the following question:\n",
        "    Use the Titanic data set from Kaggle, and write python code to build a decision tree model that can predict if a passenger survived or not.\n",
        "    Return and answer and the code used.\"\"\"\n",
        ")\n",
        "print(str(response))"
      ],
      "metadata": {
        "colab": {
          "base_uri": "https://localhost:8080/"
        },
        "id": "zTK6FEX3flbK",
        "outputId": "632f52ee-150a-4ec1-ae67-6724afc0e117"
      },
      "execution_count": null,
      "outputs": [
        {
          "output_type": "stream",
          "name": "stdout",
          "text": [
            "To build a decision tree model to predict passenger survival on the Titanic, we would need the Titanic dataset from Kaggle. Typically, this would involve downloading the data, performing data analysis, cleaning, and preprocessing, then training and testing a machine learning model.\n",
            "\n",
            "As I don't have access to the internet to download the dataset from Kaggle, I'll assume the dataset is in the commonly used format with features like 'Pclass' (passenger class), 'Sex', 'Age', 'SibSp' (siblings/spouses aboard), 'Parch' (parents/children aboard), 'Fare', 'Embarked' (port of embarkation), and the target variable 'Survived'.\n",
            "\n",
            "Here is a general outline of the steps you'd take to build the decision tree model using the scikit-learn library in Python:\n",
            "\n",
            "1. Load the dataset.\n",
            "2. Perform exploratory data analysis to understand the data.\n",
            "3. Preprocess the data (handle missing values, convert categorical variables to numeric, etc.).\n",
            "4. Split the dataset into a training set and a test set.\n",
            "5. Instantiate a decision tree classifier.\n",
            "6. Train the classifier on the training data.\n",
            "7. Test the classifier on the test data and evaluate its performance.\n",
            "\n",
            "I can show you the code to perform these steps. However, without the actual dataset, I won't be able to execute the model training and testing. Would you like to proceed with the example code, assuming a typical Titanic dataset format? If you have a specific dataset you would like to use and can provide it, please upload it, and I can write code tailored to that data and run the model training.\n"
          ]
        }
      ]
    },
    {
      "cell_type": "code",
      "source": [
        "# he did an exampl.. of providing code and it explains the code\n",
        "# chatgpt front end:\n",
        "# comment this code... and past your code snippet\n",
        "\n",
        "# and if you're in vscode\n",
        "# there are extnsions.. \"comment this code\"\n",
        "# there's a colab ai also he used..\n",
        "# you can also use the google colab ai on the upper right..\n",
        "# very cool\n",
        "# this doesn't know the cell context.. so you can just paste it in.. i.e. comment this code, etc..\n"
      ],
      "metadata": {
        "id": "M_KOsJyB6Mko"
      },
      "execution_count": null,
      "outputs": []
    },
    {
      "cell_type": "markdown",
      "source": [
        "# ReAct"
      ],
      "metadata": {
        "id": "I2CM35w9mSv0"
      }
    },
    {
      "cell_type": "code",
      "source": [
        "# he commented that if we got to just before here we're on a good place\n",
        "# from here, it's beyhond simple sub query or routing, how do we make a decision\n",
        "# get a response and based on the response\n",
        "# more advanced.. it will choose the next best action\n",
        "# seems these next few lines are about persistence in vector db\n",
        "try:\n",
        "    storage_context = StorageContext.from_defaults(\n",
        "        persist_dir=\"./storage/lyft\"\n",
        "    )\n",
        "    lyft_index = load_index_from_storage(storage_context)\n",
        "\n",
        "    storage_context = StorageContext.from_defaults(\n",
        "        persist_dir=\"./storage/uber\"\n",
        "    )\n",
        "    uber_index = load_index_from_storage(storage_context)\n",
        "\n",
        "    index_loaded = True\n",
        "except:\n",
        "    index_loaded = False"
      ],
      "metadata": {
        "id": "Hw13jqUGmWNY"
      },
      "execution_count": null,
      "outputs": []
    },
    {
      "cell_type": "code",
      "source": [
        "# download 2 10ks\n",
        "!mkdir -p 'data/10k/'\n",
        "# these pdfs were not longer accessible!\n",
        "# !wget 'https://raw.githubusercontent.com/run-llama/llama_index/main/docs/examples/data/10k/uber_2021.pdf' -O 'data/10k/uber_2021.pdf'\n",
        "# !wget 'https://raw.githubusercontent.com/run-llama/llama_index/main/docs/examples/data/10k/lyft_2021.pdf' -O 'data/10k/lyft_2021.pdf'\n",
        "\n",
        "!wget 'https://stocklight.com/stocks/us/nyse-uber/uber-technologies/annual-reports/nyse-uber-2021-10K-21693896.pdf' -O 'data/10k/uber_2021.pdf'\n",
        "!wget 'https://stocklight.com/stocks/us/nasdaq-lyft/lyft-inc-cls-a/annual-reports/nasdaq-lyft-2021-10K-21697690.pdf' -O 'data/10k/lyft_2021.pdf'"
      ],
      "metadata": {
        "colab": {
          "base_uri": "https://localhost:8080/"
        },
        "id": "ivEES8bFmfth",
        "outputId": "eb565ad7-7b28-4f37-a90d-dc55a76aa86a"
      },
      "execution_count": null,
      "outputs": [
        {
          "output_type": "stream",
          "name": "stdout",
          "text": [
            "--2024-05-06 01:06:12--  https://stocklight.com/stocks/us/nyse-uber/uber-technologies/annual-reports/nyse-uber-2021-10K-21693896.pdf\n",
            "Resolving stocklight.com (stocklight.com)... 3.226.182.14, 54.237.159.171, 52.21.227.162, ...\n",
            "Connecting to stocklight.com (stocklight.com)|3.226.182.14|:443... connected.\n",
            "HTTP request sent, awaiting response... 200 OK\n",
            "Length: 172153 (168K) [application/pdf]\n",
            "Saving to: ‘data/10k/uber_2021.pdf’\n",
            "\n",
            "data/10k/uber_2021. 100%[===================>] 168.12K  --.-KB/s    in 0.1s    \n",
            "\n",
            "2024-05-06 01:06:13 (1.39 MB/s) - ‘data/10k/uber_2021.pdf’ saved [172153/172153]\n",
            "\n",
            "--2024-05-06 01:06:13--  https://stocklight.com/stocks/us/nasdaq-lyft/lyft-inc-cls-a/annual-reports/nasdaq-lyft-2021-10K-21697690.pdf\n",
            "Resolving stocklight.com (stocklight.com)... 3.226.182.14, 54.237.159.171, 52.21.227.162, ...\n",
            "Connecting to stocklight.com (stocklight.com)|3.226.182.14|:443... connected.\n",
            "HTTP request sent, awaiting response... 200 OK\n",
            "Length: 171758 (168K) [application/pdf]\n",
            "Saving to: ‘data/10k/lyft_2021.pdf’\n",
            "\n",
            "data/10k/lyft_2021. 100%[===================>] 167.73K  --.-KB/s    in 0.1s    \n",
            "\n",
            "2024-05-06 01:06:13 (1.39 MB/s) - ‘data/10k/lyft_2021.pdf’ saved [171758/171758]\n",
            "\n"
          ]
        }
      ]
    },
    {
      "cell_type": "code",
      "source": [
        "# download the data and index them..\n",
        "if not index_loaded:\n",
        "    # load data\n",
        "    lyft_docs = SimpleDirectoryReader(\n",
        "        input_files=[\"./data/10k/lyft_2021.pdf\"]\n",
        "    ).load_data()\n",
        "    uber_docs = SimpleDirectoryReader(\n",
        "        input_files=[\"./data/10k/uber_2021.pdf\"]\n",
        "    ).load_data()\n",
        "\n",
        "    # build index\n",
        "    lyft_index = VectorStoreIndex.from_documents(lyft_docs)\n",
        "    uber_index = VectorStoreIndex.from_documents(uber_docs)\n",
        "\n",
        "    # persist index\n",
        "    lyft_index.storage_context.persist(persist_dir=\"./storage/lyft\")\n",
        "    uber_index.storage_context.persist(persist_dir=\"./storage/uber\")"
      ],
      "metadata": {
        "colab": {
          "base_uri": "https://localhost:8080/"
        },
        "id": "EsgIAm39mfzl",
        "outputId": "351dbec8-0463-4e1f-be0b-d6bad6524db6"
      },
      "execution_count": null,
      "outputs": [
        {
          "output_type": "stream",
          "name": "stdout",
          "text": [
            "**********\n",
            "Trace: index_construction\n",
            "    |_embedding -> 0.506651 seconds\n",
            "**********\n",
            "**********\n",
            "Trace: index_construction\n",
            "    |_embedding -> 0.451118 seconds\n",
            "**********\n"
          ]
        }
      ]
    },
    {
      "cell_type": "code",
      "source": [
        "lyft_engine = lyft_index.as_query_engine(similarity_top_k=3)\n",
        "uber_engine = uber_index.as_query_engine(similarity_top_k=3)"
      ],
      "metadata": {
        "id": "BVecZ17QmlJE"
      },
      "execution_count": null,
      "outputs": []
    },
    {
      "cell_type": "code",
      "source": [
        "# create tools..\n",
        "query_engine_tools = [\n",
        "    QueryEngineTool(\n",
        "        query_engine=lyft_engine,\n",
        "        metadata=ToolMetadata(\n",
        "            name=\"lyft_10k\",\n",
        "            description=(\n",
        "                \"Provides information about Lyft financials for year 2021. \"\n",
        "                \"Use a detailed plain text question as input to the tool.\"\n",
        "            ),\n",
        "        ),\n",
        "    ),\n",
        "    QueryEngineTool(\n",
        "        query_engine=uber_engine,\n",
        "        metadata=ToolMetadata(\n",
        "            name=\"uber_10k\",\n",
        "            description=(\n",
        "                \"Provides information about Uber financials for year 2021. \"\n",
        "                \"Use a detailed plain text question as input to the tool.\"\n",
        "            ),\n",
        "        ),\n",
        "    ),\n",
        "]"
      ],
      "metadata": {
        "id": "plEz3pMBmnqG"
      },
      "execution_count": null,
      "outputs": []
    },
    {
      "cell_type": "code",
      "source": [
        "# this is where it gets diferent.. we're importing a react agent\n",
        "# beyond just rasoning or acting only.. it's going to multi step\n",
        "# it uses open ai models by default..\n",
        "# this will require complex reasoning.. hence the better the model, the better the reasoning\n",
        "# openai has best model, so it's your safest.. but u can use open source mode\n",
        "# this is all very cutting edge..\n",
        "# see this website for more detail. not how you can alter the LLM here\n",
        "# https://docs.llamaindex.ai/en/stable/examples/agent/react_agent_with_query_engine/\n",
        "\n",
        "from llama_index.core.agent import ReActAgent\n",
        "agent = ReActAgent.from_tools(\n",
        "    query_engine_tools,\n",
        "    verbose=True,\n",
        "    # context=context\n",
        ")"
      ],
      "metadata": {
        "id": "VMbymUWemsFu"
      },
      "execution_count": null,
      "outputs": []
    },
    {
      "cell_type": "code",
      "source": [
        "# remember that models are not good at math\n",
        "# he'd suggest ot call open ai code interpretter tool to do the analysis with python code.\n",
        "response = agent.chat(\n",
        "    \"Compare the risk of investing in Uber and Lyft and return a table\"\n",
        ")\n",
        "print(str(response))"
      ],
      "metadata": {
        "colab": {
          "base_uri": "https://localhost:8080/"
        },
        "id": "IAhDZI_Gm7X3",
        "outputId": "a785d5f3-0537-4930-f49c-635877d3b916"
      },
      "execution_count": null,
      "outputs": [
        {
          "output_type": "stream",
          "name": "stdout",
          "text": [
            "\u001b[1;3;38;5;200mThought: I need to use the financial data from both Uber and Lyft to compare the risk of investing in these companies.\n",
            "Action: uber_10k\n",
            "Action Input: {'input': 'Please provide information on the risk factors for investing in Uber in 2021.'}\n",
            "\u001b[0m\u001b[1;3;34mObservation: Investing in Uber in 2021 carries certain risk factors. These include regulatory challenges related to how drivers are classified, such as the impact of regulations like California's Assembly Bill 5 and Proposition 22. Additionally, Uber faces regulatory scrutiny and operational challenges in various jurisdictions globally, such as license reviews in London, operational requirements in Mexico City, and regulatory changes affecting services in cities like Barcelona and New York City. Moreover, Uber competes in highly fragmented markets against well-established alternatives and new market entrants, which could impact its financial performance.\n",
            "\u001b[0m\u001b[1;3;38;5;200mThought: I have gathered information on the risk factors for investing in Uber in 2021. Now, I need to gather similar information for Lyft to compare the risk of investing in both companies.\n",
            "Action: lyft_10k\n",
            "Action Input: {'input': 'Please provide information on the risk factors for investing in Lyft in 2021.'}\n",
            "\u001b[0m\u001b[1;3;34mObservation: For investing in Lyft in 2021, it is important to consider the risk factors associated with the company. These risk factors include the ongoing impact of the COVID-19 pandemic on Lyft's business, such as decreased demand, revenue, and earning opportunities for drivers. Additionally, the global economic slowdown, disruptions in supply chains, and financial market volatility due to the pandemic pose risks. Other factors to consider are the company's efforts to reduce operating expenses, adjust cash flows, and decrease capital expenditure spending, which may impact financial performance. Furthermore, changes in consumer preferences, regulatory challenges, competition in the transportation industry, and the company's ability to innovate and adapt to evolving market trends are important risk factors to evaluate before investing in Lyft in 2021.\n",
            "\u001b[0m\u001b[1;3;38;5;200mThought: I have gathered information on the risk factors for investing in both Uber and Lyft in 2021. Now, I will create a table to compare the risks associated with investing in these companies.\n",
            "Answer: | Risk Factors      | Uber                                      | Lyft                                      |\n",
            "|-------------------|-------------------------------------------|-------------------------------------------|\n",
            "| Regulatory Challenges | Regulatory scrutiny and operational challenges in various jurisdictions globally, competition in fragmented markets | Ongoing impact of COVID-19, economic slowdown, disruptions in supply chains, regulatory challenges, competition in the transportation industry |\n",
            "| Market Competition | Competing in fragmented markets against established alternatives and new entrants | Competition in the transportation industry, changing consumer preferences |\n",
            "| Financial Impact   | Impact of regulatory changes, operational requirements, and license reviews on financial performance | Impact of decreased demand, revenue, and earning opportunities for drivers, efforts to reduce operating expenses and adjust cash flows |\n",
            "| Innovation and Adaptation | Need to innovate and adapt to evolving market trends | Need to innovate and adapt to changing consumer preferences and market dynamics |\n",
            "\n",
            "This table provides a comparison of the key risk factors associated with investing in Uber and Lyft in 2021.\n",
            "\u001b[0m**********\n",
            "Trace: chat\n",
            "    |_agent_step -> 13.048332 seconds\n",
            "      |_llm -> 1.817094 seconds\n",
            "      |_function_call -> 2.415608 seconds\n",
            "        |_query -> 2.415006 seconds\n",
            "          |_retrieve -> 0.181648 seconds\n",
            "            |_embedding -> 0.17558 seconds\n",
            "          |_synthesize -> 2.232381 seconds\n",
            "            |_templating -> 3.7e-05 seconds\n",
            "            |_llm -> 2.220875 seconds\n",
            "      |_llm -> 1.63063 seconds\n",
            "      |_function_call -> 3.001927 seconds\n",
            "        |_query -> 3.001262 seconds\n",
            "          |_retrieve -> 0.210848 seconds\n",
            "            |_embedding -> 0.20202 seconds\n",
            "          |_synthesize -> 2.789147 seconds\n",
            "            |_templating -> 3.3e-05 seconds\n",
            "            |_llm -> 2.777879 seconds\n",
            "      |_llm -> 4.174344 seconds\n",
            "**********\n",
            "| Risk Factors      | Uber                                      | Lyft                                      |\n",
            "|-------------------|-------------------------------------------|-------------------------------------------|\n",
            "| Regulatory Challenges | Regulatory scrutiny and operational challenges in various jurisdictions globally, competition in fragmented markets | Ongoing impact of COVID-19, economic slowdown, disruptions in supply chains, regulatory challenges, competition in the transportation industry |\n",
            "| Market Competition | Competing in fragmented markets against established alternatives and new entrants | Competition in the transportation industry, changing consumer preferences |\n",
            "| Financial Impact   | Impact of regulatory changes, operational requirements, and license reviews on financial performance | Impact of decreased demand, revenue, and earning opportunities for drivers, efforts to reduce operating expenses and adjust cash flows |\n",
            "| Innovation and Adaptation | Need to innovate and adapt to evolving market trends | Need to innovate and adapt to changing consumer preferences and market dynamics |\n",
            "\n",
            "This table provides a comparison of the key risk factors associated with investing in Uber and Lyft in 2021.\n"
          ]
        }
      ]
    },
    {
      "cell_type": "code",
      "source": [
        "# question came up in class.. what if you just ask it to compare the 2 docs and nothing else\n",
        "# rag is primary tool it's using here\n",
        "# quality here is how good the base llm is.. and models are not that good at reasoning yet\n",
        "response = agent.chat(\n",
        "    \"Conduct an investment analysis on Lyft and Uber\"\n",
        ")\n",
        "print(str(response))"
      ],
      "metadata": {
        "colab": {
          "base_uri": "https://localhost:8080/"
        },
        "id": "KCpmjvfO5pOu",
        "outputId": "31268fad-5539-4e53-918d-6600a5a9e283"
      },
      "execution_count": null,
      "outputs": [
        {
          "output_type": "stream",
          "name": "stdout",
          "text": [
            "\u001b[1;3;38;5;200mThought: I can answer without using any more tools. I'll use the user's language to answer\n",
            "Answer: When conducting an investment analysis on Lyft and Uber, it's essential to consider various factors such as financial performance, market position, growth potential, competitive landscape, regulatory environment, and overall industry trends. Analyzing key financial metrics, growth projections, strategic initiatives, and risk factors can help investors make informed decisions about investing in Lyft or Uber. Additionally, comparing valuation metrics, profitability, revenue growth, and market share can provide insights into the investment potential of each company.\n",
            "\u001b[0m**********\n",
            "Trace: chat\n",
            "    |_agent_step -> 2.022413 seconds\n",
            "      |_llm -> 2.018774 seconds\n",
            "**********\n",
            "When conducting an investment analysis on Lyft and Uber, it's essential to consider various factors such as financial performance, market position, growth potential, competitive landscape, regulatory environment, and overall industry trends. Analyzing key financial metrics, growth projections, strategic initiatives, and risk factors can help investors make informed decisions about investing in Lyft or Uber. Additionally, comparing valuation metrics, profitability, revenue growth, and market share can provide insights into the investment potential of each company.\n"
          ]
        }
      ]
    },
    {
      "cell_type": "code",
      "source": [
        "# in chatgpr he also typeed\n",
        "# return a vis if stock returns\n",
        "\n",
        "# another one is LLMCompiler.. similar idea\n",
        "# see slides for class 5\n",
        "\n",
        "# currently react does no long term planning.. it's sequential\n",
        "# once it can do long term.. then it's like AGI.."
      ],
      "metadata": {
        "id": "cG1Kec5h_McL"
      },
      "execution_count": null,
      "outputs": []
    },
    {
      "cell_type": "code",
      "source": [],
      "metadata": {
        "id": "Mye1z-5Ln0CA"
      },
      "execution_count": null,
      "outputs": []
    },
    {
      "cell_type": "markdown",
      "source": [
        "# MSFT AutoGen"
      ],
      "metadata": {
        "id": "kzDkk_LAjeR9"
      }
    },
    {
      "cell_type": "code",
      "source": [],
      "metadata": {
        "id": "Lhb_omAEjgml"
      },
      "execution_count": null,
      "outputs": []
    }
  ]
}